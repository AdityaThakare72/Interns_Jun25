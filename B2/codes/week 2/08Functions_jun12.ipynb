{
 "cells": [
  {
   "cell_type": "code",
   "execution_count": 1,
   "id": "d353ee2d-a410-467f-92a5-8f312e43eb46",
   "metadata": {},
   "outputs": [
    {
     "name": "stdout",
     "output_type": "stream",
     "text": [
      "hello\n",
      "ok\n",
      "bye!!!!\n"
     ]
    }
   ],
   "source": [
    "print(\"hello\")\n",
    "print(\"ok\")\n",
    "print('bye!!!!')"
   ]
  },
  {
   "cell_type": "code",
   "execution_count": 3,
   "id": "695aebc2-5ee5-4b4b-8ee2-53c96c67beb5",
   "metadata": {},
   "outputs": [],
   "source": [
    "def show():             # function definition\n",
    "    print(\"hello\")\n",
    "    print(\"ok\")\n",
    "    print('bye!!!!')"
   ]
  },
  {
   "cell_type": "code",
   "execution_count": 5,
   "id": "b18c8721-9549-44ef-bb8b-268366ba5c5b",
   "metadata": {},
   "outputs": [
    {
     "name": "stdout",
     "output_type": "stream",
     "text": [
      "hello\n",
      "ok\n",
      "bye!!!!\n"
     ]
    }
   ],
   "source": [
    "# function call\n",
    "show()"
   ]
  },
  {
   "cell_type": "code",
   "execution_count": 7,
   "id": "4dde76d4-db6f-481d-a2a5-cff905c2c768",
   "metadata": {},
   "outputs": [
    {
     "name": "stdout",
     "output_type": "stream",
     "text": [
      "hello\n",
      "ok\n",
      "bye!!!!\n",
      "hello\n",
      "ok\n",
      "bye!!!!\n",
      "hello\n",
      "ok\n",
      "bye!!!!\n"
     ]
    }
   ],
   "source": [
    "show()\n",
    "show()\n",
    "show()"
   ]
  },
  {
   "cell_type": "code",
   "execution_count": 9,
   "id": "97833e77-0a3f-4499-bfdd-92b18a27a380",
   "metadata": {},
   "outputs": [],
   "source": [
    "# parameterized function"
   ]
  },
  {
   "cell_type": "code",
   "execution_count": 11,
   "id": "b7194710-4db2-4e28-9fe4-9200e601de63",
   "metadata": {},
   "outputs": [],
   "source": [
    "def sq(num):\n",
    "    res = num * num\n",
    "    print(res)"
   ]
  },
  {
   "cell_type": "code",
   "execution_count": 13,
   "id": "6add9535-db1f-4392-9031-45085852cf68",
   "metadata": {},
   "outputs": [
    {
     "name": "stdout",
     "output_type": "stream",
     "text": [
      "64\n"
     ]
    }
   ],
   "source": [
    "sq(8)"
   ]
  },
  {
   "cell_type": "code",
   "execution_count": 15,
   "id": "87078165-c381-439e-8427-d264fbc6c00c",
   "metadata": {},
   "outputs": [],
   "source": [
    "# function to check largest of 2 numbers"
   ]
  },
  {
   "cell_type": "code",
   "execution_count": 17,
   "id": "9bf208e2-6f2d-45b4-9989-3eaef4359bcd",
   "metadata": {},
   "outputs": [],
   "source": [
    "def largest(a, b):\n",
    "    if a > b:\n",
    "        print(a)\n",
    "    elif a == b:\n",
    "        print(\"equal\")\n",
    "    else:\n",
    "        print(b)"
   ]
  },
  {
   "cell_type": "code",
   "execution_count": 19,
   "id": "25024ca4-41d9-4928-bc4e-07d8c26212d6",
   "metadata": {},
   "outputs": [
    {
     "name": "stdout",
     "output_type": "stream",
     "text": [
      "32\n"
     ]
    }
   ],
   "source": [
    "largest(10, 32)"
   ]
  },
  {
   "cell_type": "code",
   "execution_count": 25,
   "id": "ef6d8f9c-ee86-4fe0-b09f-1aa307f6c043",
   "metadata": {},
   "outputs": [],
   "source": [
    "# take a 'name' and print it 'n' times\n",
    "\n",
    "def dis(name, n):\n",
    "    for i in range(n):\n",
    "        print(name)"
   ]
  },
  {
   "cell_type": "code",
   "execution_count": 27,
   "id": "0f338f85-aacd-40ed-a3cc-f8d66cc5e302",
   "metadata": {},
   "outputs": [
    {
     "name": "stdout",
     "output_type": "stream",
     "text": [
      "pune\n",
      "pune\n",
      "pune\n",
      "pune\n",
      "pune\n"
     ]
    }
   ],
   "source": [
    "dis(\"pune\", 5)"
   ]
  },
  {
   "cell_type": "code",
   "execution_count": 29,
   "id": "9fea9c1c-ea0e-4ec7-a314-9f371b247f3e",
   "metadata": {},
   "outputs": [],
   "source": [
    "# factorial\n",
    "\n",
    "def fact(n):\n",
    "    fact = 1\n",
    "    for i in range(1, n+1):\n",
    "        fact = i * fact\n",
    "    print(fact)"
   ]
  },
  {
   "cell_type": "code",
   "execution_count": 31,
   "id": "c9d4ae8f-7f55-4e6a-9411-226288579824",
   "metadata": {},
   "outputs": [
    {
     "name": "stdout",
     "output_type": "stream",
     "text": [
      "120\n"
     ]
    }
   ],
   "source": [
    "fact(5)"
   ]
  },
  {
   "cell_type": "code",
   "execution_count": 33,
   "id": "d4b9a9ff-f637-4007-9348-f5249d43d62f",
   "metadata": {},
   "outputs": [],
   "source": [
    "def sq(num):\n",
    "    res = num * num\n",
    "    return res"
   ]
  },
  {
   "cell_type": "code",
   "execution_count": 35,
   "id": "ac7d4a60-29f5-4777-ab12-530f69f66322",
   "metadata": {},
   "outputs": [
    {
     "data": {
      "text/plain": [
       "9"
      ]
     },
     "execution_count": 35,
     "metadata": {},
     "output_type": "execute_result"
    }
   ],
   "source": [
    "sq(3)"
   ]
  },
  {
   "cell_type": "code",
   "execution_count": 37,
   "id": "ed78a14f-1efd-4666-8fee-0809887a6a98",
   "metadata": {},
   "outputs": [],
   "source": [
    "# difference"
   ]
  },
  {
   "cell_type": "code",
   "execution_count": 39,
   "id": "3e316102-cc02-46ae-8cec-046f6d2bbe23",
   "metadata": {},
   "outputs": [],
   "source": [
    "def add1(a, b):\n",
    "    print(a + b)"
   ]
  },
  {
   "cell_type": "code",
   "execution_count": 41,
   "id": "9c132175-e496-4fb9-bdba-85a2e63dc76f",
   "metadata": {},
   "outputs": [
    {
     "name": "stdout",
     "output_type": "stream",
     "text": [
      "12\n"
     ]
    }
   ],
   "source": [
    "add1(5, 7)"
   ]
  },
  {
   "cell_type": "code",
   "execution_count": 43,
   "id": "5af0e3a8-d1f3-4938-ae12-d537a4f109e1",
   "metadata": {},
   "outputs": [
    {
     "name": "stdout",
     "output_type": "stream",
     "text": [
      "12\n"
     ]
    }
   ],
   "source": [
    "res = add1(5, 7)"
   ]
  },
  {
   "cell_type": "code",
   "execution_count": 45,
   "id": "7bee2e75-5646-4be8-a904-47c9c75df0ba",
   "metadata": {},
   "outputs": [
    {
     "name": "stdout",
     "output_type": "stream",
     "text": [
      "None\n"
     ]
    }
   ],
   "source": [
    "print(res)"
   ]
  },
  {
   "cell_type": "code",
   "execution_count": 47,
   "id": "70056af4-8106-4fec-995f-4c031fe35481",
   "metadata": {},
   "outputs": [],
   "source": [
    "def add1(a, b):\n",
    "    return a + b"
   ]
  },
  {
   "cell_type": "code",
   "execution_count": 49,
   "id": "31ac46d1-a877-4c5b-b5f4-94fae55be577",
   "metadata": {},
   "outputs": [],
   "source": [
    "res = add1(5, 6)"
   ]
  },
  {
   "cell_type": "code",
   "execution_count": 51,
   "id": "99e1ca81-369a-407a-b5e2-51f00004c37d",
   "metadata": {},
   "outputs": [
    {
     "data": {
      "text/plain": [
       "11"
      ]
     },
     "execution_count": 51,
     "metadata": {},
     "output_type": "execute_result"
    }
   ],
   "source": [
    "res"
   ]
  },
  {
   "cell_type": "code",
   "execution_count": 53,
   "id": "0a8fe548-eeed-43b0-93fc-d257b6de2d96",
   "metadata": {},
   "outputs": [],
   "source": [
    "def cal(a):\n",
    "    sq = a * a\n",
    "    cu = a ** 3\n",
    "    return sq, cu"
   ]
  },
  {
   "cell_type": "code",
   "execution_count": 55,
   "id": "b4348b2d-0766-4c6e-a669-ee43670a613e",
   "metadata": {},
   "outputs": [
    {
     "data": {
      "text/plain": [
       "(81, 729)"
      ]
     },
     "execution_count": 55,
     "metadata": {},
     "output_type": "execute_result"
    }
   ],
   "source": [
    "cal(9)"
   ]
  },
  {
   "cell_type": "code",
   "execution_count": 57,
   "id": "b36fcd3d-08b8-41b8-bf24-1655c58fa683",
   "metadata": {},
   "outputs": [],
   "source": [
    "# variable length argument"
   ]
  },
  {
   "cell_type": "code",
   "execution_count": 59,
   "id": "d0dc9a04-54d1-45ee-9575-7a77b2b76440",
   "metadata": {},
   "outputs": [],
   "source": [
    "def p(*args):\n",
    "    return args"
   ]
  },
  {
   "cell_type": "code",
   "execution_count": 61,
   "id": "d8d163cf-5403-47a4-81e5-d66ddb4df07b",
   "metadata": {},
   "outputs": [
    {
     "data": {
      "text/plain": [
       "(4, 6, 7, 2, 10)"
      ]
     },
     "execution_count": 61,
     "metadata": {},
     "output_type": "execute_result"
    }
   ],
   "source": [
    "p(4, 6, 7, 2, 10)"
   ]
  },
  {
   "cell_type": "code",
   "execution_count": 63,
   "id": "f098c58d-1c3e-4255-b488-6c69c063be66",
   "metadata": {},
   "outputs": [],
   "source": [
    "# lambda function"
   ]
  },
  {
   "cell_type": "code",
   "execution_count": 71,
   "id": "85a61b2e-e757-4a1e-a2a7-6a8d4bd9dbe6",
   "metadata": {},
   "outputs": [],
   "source": [
    "squ = lambda a: a * a"
   ]
  },
  {
   "cell_type": "code",
   "execution_count": 73,
   "id": "8ac0f98e-b513-4998-aeb7-afe563fd8d52",
   "metadata": {},
   "outputs": [
    {
     "data": {
      "text/plain": [
       "9"
      ]
     },
     "execution_count": 73,
     "metadata": {},
     "output_type": "execute_result"
    }
   ],
   "source": [
    "squ(3)"
   ]
  },
  {
   "cell_type": "code",
   "execution_count": 75,
   "id": "f4925133-58e0-4fe5-a6d2-cacc98c85044",
   "metadata": {},
   "outputs": [],
   "source": [
    "add = lambda a, b: a +b"
   ]
  },
  {
   "cell_type": "code",
   "execution_count": 77,
   "id": "49d3bb29-7a86-499c-b481-36253db23f51",
   "metadata": {},
   "outputs": [
    {
     "data": {
      "text/plain": [
       "8"
      ]
     },
     "execution_count": 77,
     "metadata": {},
     "output_type": "execute_result"
    }
   ],
   "source": [
    "add(3, 5)"
   ]
  },
  {
   "cell_type": "code",
   "execution_count": 81,
   "id": "58fe4df9-5679-4bd1-b9ef-67c7ae8a71af",
   "metadata": {},
   "outputs": [],
   "source": [
    "# filter"
   ]
  },
  {
   "cell_type": "code",
   "execution_count": 83,
   "id": "f10cf122-f097-48f1-becd-9cf6051a6dbf",
   "metadata": {},
   "outputs": [],
   "source": [
    "l = [45, 67, 89, 23, 11, 90]"
   ]
  },
  {
   "cell_type": "code",
   "execution_count": 85,
   "id": "1a38c8e3-e2d7-4de5-b64a-cf3223ad2dec",
   "metadata": {},
   "outputs": [],
   "source": [
    "nl = filter(lambda x: x > 40, l)"
   ]
  },
  {
   "cell_type": "code",
   "execution_count": 87,
   "id": "935eaa4b-b940-4312-914b-6ae369a005ad",
   "metadata": {},
   "outputs": [
    {
     "data": {
      "text/plain": [
       "[45, 67, 89, 90]"
      ]
     },
     "execution_count": 87,
     "metadata": {},
     "output_type": "execute_result"
    }
   ],
   "source": [
    "list(nl)"
   ]
  },
  {
   "cell_type": "code",
   "execution_count": 89,
   "id": "7ccacf97-e293-4936-ab4f-16bf103f139d",
   "metadata": {},
   "outputs": [
    {
     "data": {
      "text/plain": [
       "[2025, 4489, 7921, 529, 121, 8100]"
      ]
     },
     "execution_count": 89,
     "metadata": {},
     "output_type": "execute_result"
    }
   ],
   "source": [
    "n2 = map(lambda x: x * x, l)\n",
    "list(n2)"
   ]
  },
  {
   "cell_type": "code",
   "execution_count": 93,
   "id": "eee9aab0-b07b-4c42-977d-e8b8c5544d99",
   "metadata": {},
   "outputs": [
    {
     "data": {
      "text/plain": [
       "[True, True, True, False, False, True]"
      ]
     },
     "execution_count": 93,
     "metadata": {},
     "output_type": "execute_result"
    }
   ],
   "source": [
    "nl = map(lambda x: x > 40, l)\n",
    "list(nl)"
   ]
  },
  {
   "cell_type": "code",
   "execution_count": 95,
   "id": "fe927acf-a48b-4bf0-a6bd-b2d3d9d6814f",
   "metadata": {},
   "outputs": [],
   "source": [
    "def sub(x, y, z):\n",
    "    return x + y + z"
   ]
  },
  {
   "cell_type": "code",
   "execution_count": 97,
   "id": "b2a3e862-52b7-4719-ab89-0bd6632c8939",
   "metadata": {},
   "outputs": [
    {
     "data": {
      "text/plain": [
       "13"
      ]
     },
     "execution_count": 97,
     "metadata": {},
     "output_type": "execute_result"
    }
   ],
   "source": [
    "sub(2, 3, 8)"
   ]
  },
  {
   "cell_type": "code",
   "execution_count": 99,
   "id": "809260ca-fd74-41af-b641-781f9f81939a",
   "metadata": {},
   "outputs": [
    {
     "ename": "TypeError",
     "evalue": "sub() missing 1 required positional argument: 'z'",
     "output_type": "error",
     "traceback": [
      "\u001b[0;31m---------------------------------------------------------------------------\u001b[0m",
      "\u001b[0;31mTypeError\u001b[0m                                 Traceback (most recent call last)",
      "Cell \u001b[0;32mIn[99], line 1\u001b[0m\n\u001b[0;32m----> 1\u001b[0m sub(\u001b[38;5;241m3\u001b[39m, \u001b[38;5;241m5\u001b[39m)\n",
      "\u001b[0;31mTypeError\u001b[0m: sub() missing 1 required positional argument: 'z'"
     ]
    }
   ],
   "source": [
    "sub(3, 5)"
   ]
  },
  {
   "cell_type": "code",
   "execution_count": 101,
   "id": "87903c64-c7cc-4acb-9746-9dabf0d8cd8b",
   "metadata": {},
   "outputs": [
    {
     "ename": "TypeError",
     "evalue": "sub() takes 3 positional arguments but 4 were given",
     "output_type": "error",
     "traceback": [
      "\u001b[0;31m---------------------------------------------------------------------------\u001b[0m",
      "\u001b[0;31mTypeError\u001b[0m                                 Traceback (most recent call last)",
      "Cell \u001b[0;32mIn[101], line 1\u001b[0m\n\u001b[0;32m----> 1\u001b[0m sub(\u001b[38;5;241m3\u001b[39m, \u001b[38;5;241m5\u001b[39m, \u001b[38;5;241m6\u001b[39m, \u001b[38;5;241m0\u001b[39m)\n",
      "\u001b[0;31mTypeError\u001b[0m: sub() takes 3 positional arguments but 4 were given"
     ]
    }
   ],
   "source": [
    "sub(3, 5, 6, 0)"
   ]
  },
  {
   "cell_type": "code",
   "execution_count": 103,
   "id": "bae503e7-c64c-454b-b471-8bd17c6c722b",
   "metadata": {},
   "outputs": [],
   "source": [
    "# default arguments\n",
    "\n",
    "def sub(x = 10, y = 20, z = 30):\n",
    "    return x + y + z"
   ]
  },
  {
   "cell_type": "code",
   "execution_count": 105,
   "id": "027cc829-5a8a-470e-a5be-5a15f87c9dc8",
   "metadata": {},
   "outputs": [
    {
     "data": {
      "text/plain": [
       "60"
      ]
     },
     "execution_count": 105,
     "metadata": {},
     "output_type": "execute_result"
    }
   ],
   "source": [
    "sub()"
   ]
  },
  {
   "cell_type": "code",
   "execution_count": 107,
   "id": "dc868b80-997a-4c82-bce3-78452262c68a",
   "metadata": {},
   "outputs": [
    {
     "data": {
      "text/plain": [
       "54"
      ]
     },
     "execution_count": 107,
     "metadata": {},
     "output_type": "execute_result"
    }
   ],
   "source": [
    "sub(4)"
   ]
  },
  {
   "cell_type": "code",
   "execution_count": 109,
   "id": "dba8d995-2c3a-425d-b7ba-e3e754139e61",
   "metadata": {},
   "outputs": [
    {
     "data": {
      "text/plain": [
       "39"
      ]
     },
     "execution_count": 109,
     "metadata": {},
     "output_type": "execute_result"
    }
   ],
   "source": [
    "sub(4, 5)"
   ]
  },
  {
   "cell_type": "code",
   "execution_count": 113,
   "id": "406ca3c7-5176-442c-ae41-aaacda2d80ca",
   "metadata": {},
   "outputs": [
    {
     "data": {
      "text/plain": [
       "47"
      ]
     },
     "execution_count": 113,
     "metadata": {},
     "output_type": "execute_result"
    }
   ],
   "source": [
    "sub(y = 7)"
   ]
  },
  {
   "cell_type": "code",
   "execution_count": 117,
   "id": "f2b6ca9a-34e6-41b8-98bc-82283278cb84",
   "metadata": {},
   "outputs": [],
   "source": [
    "def sub(z, x = 10, y = 20):\n",
    "    return x + y + z"
   ]
  },
  {
   "cell_type": "code",
   "execution_count": 121,
   "id": "cfa11550-109b-4208-a50c-319f39f51731",
   "metadata": {},
   "outputs": [
    {
     "data": {
      "text/plain": [
       "35"
      ]
     },
     "execution_count": 121,
     "metadata": {},
     "output_type": "execute_result"
    }
   ],
   "source": [
    "sub(5)"
   ]
  },
  {
   "cell_type": "code",
   "execution_count": null,
   "id": "150a3e6a-8fb3-4b57-a32e-4c563740ca50",
   "metadata": {},
   "outputs": [],
   "source": []
  }
 ],
 "metadata": {
  "kernelspec": {
   "display_name": "Python 3 (ipykernel)",
   "language": "python",
   "name": "python3"
  },
  "language_info": {
   "codemirror_mode": {
    "name": "ipython",
    "version": 3
   },
   "file_extension": ".py",
   "mimetype": "text/x-python",
   "name": "python",
   "nbconvert_exporter": "python",
   "pygments_lexer": "ipython3",
   "version": "3.11.9"
  }
 },
 "nbformat": 4,
 "nbformat_minor": 5
}
