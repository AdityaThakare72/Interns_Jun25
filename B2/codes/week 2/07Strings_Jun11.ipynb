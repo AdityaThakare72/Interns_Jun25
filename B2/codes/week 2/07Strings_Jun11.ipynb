{
 "cells": [
  {
   "cell_type": "code",
   "execution_count": 3,
   "id": "fc66a18d-3997-407e-993e-ceda8377d0be",
   "metadata": {},
   "outputs": [],
   "source": [
    "sample_list = ['p', 'q']\n",
    "e = []\n",
    "\n",
    "n = 5\n",
    "\n",
    "for i in range(1, n+1):\n",
    "    for j in sample_list:\n",
    "        s = str(j) + str(i)\n",
    "        e.append(s)"
   ]
  },
  {
   "cell_type": "code",
   "execution_count": 5,
   "id": "a65b987d-6bd1-4ab0-9c88-2386b5424801",
   "metadata": {},
   "outputs": [
    {
     "data": {
      "text/plain": [
       "['p1', 'q1', 'p2', 'q2', 'p3', 'q3', 'p4', 'q4', 'p5', 'q5']"
      ]
     },
     "execution_count": 5,
     "metadata": {},
     "output_type": "execute_result"
    }
   ],
   "source": [
    "e"
   ]
  },
  {
   "cell_type": "code",
   "execution_count": 7,
   "id": "8fb115a6-09cf-49ef-9f98-67ff8c812d99",
   "metadata": {},
   "outputs": [
    {
     "name": "stdout",
     "output_type": "stream",
     "text": [
      "hello world\n"
     ]
    }
   ],
   "source": [
    "print(\"hello world\")"
   ]
  },
  {
   "cell_type": "code",
   "execution_count": 9,
   "id": "8c8d8518-bb46-40da-9ecf-5f7b922e66b6",
   "metadata": {},
   "outputs": [
    {
     "name": "stdout",
     "output_type": "stream",
     "text": [
      "hello world\n"
     ]
    }
   ],
   "source": [
    "print('hello world')"
   ]
  },
  {
   "cell_type": "code",
   "execution_count": 11,
   "id": "26094099-8104-4d32-a319-c0340439b6f7",
   "metadata": {},
   "outputs": [
    {
     "name": "stdout",
     "output_type": "stream",
     "text": [
      "this is first line\n",
      "this is second line\n",
      "this is third\n"
     ]
    }
   ],
   "source": [
    "# doc string\n",
    "print(\"\"\"this is first line\n",
    "this is second line\n",
    "this is third\"\"\")"
   ]
  },
  {
   "cell_type": "code",
   "execution_count": 13,
   "id": "8580ec76-4ec1-4d85-bf82-02ca1db709a6",
   "metadata": {},
   "outputs": [],
   "source": [
    "sent = \"hello, welcome\""
   ]
  },
  {
   "cell_type": "code",
   "execution_count": 15,
   "id": "6443f154-9377-41dd-9f12-c2c73068adb6",
   "metadata": {},
   "outputs": [
    {
     "data": {
      "text/plain": [
       "'hello, welcome'"
      ]
     },
     "execution_count": 15,
     "metadata": {},
     "output_type": "execute_result"
    }
   ],
   "source": [
    "sent"
   ]
  },
  {
   "cell_type": "code",
   "execution_count": 17,
   "id": "f84a6300-2f8b-4f72-ba7b-bd1835f1525f",
   "metadata": {},
   "outputs": [
    {
     "data": {
      "text/plain": [
       "'o'"
      ]
     },
     "execution_count": 17,
     "metadata": {},
     "output_type": "execute_result"
    }
   ],
   "source": [
    "sent[4]"
   ]
  },
  {
   "cell_type": "code",
   "execution_count": 19,
   "id": "b961c7c3-237e-475e-b614-2e289d9735e6",
   "metadata": {},
   "outputs": [
    {
     "name": "stdout",
     "output_type": "stream",
     "text": [
      "0 -> h\n",
      "1 -> e\n",
      "2 -> l\n",
      "3 -> l\n",
      "4 -> o\n",
      "5 -> ,\n",
      "6 ->  \n",
      "7 -> w\n",
      "8 -> e\n",
      "9 -> l\n",
      "10 -> c\n",
      "11 -> o\n",
      "12 -> m\n",
      "13 -> e\n"
     ]
    }
   ],
   "source": [
    "# iterate over the string and print ->  index -> character\n",
    "\n",
    "for i, j in enumerate(sent):\n",
    "    print(f\"{i} -> {j}\")"
   ]
  },
  {
   "cell_type": "code",
   "execution_count": 21,
   "id": "d9021d53-46b9-4094-b163-15ac355ab3e8",
   "metadata": {},
   "outputs": [
    {
     "name": "stdout",
     "output_type": "stream",
     "text": [
      "0 -> h\n",
      "1 -> e\n",
      "2 -> l\n",
      "3 -> l\n",
      "4 -> o\n",
      "5 -> ,\n",
      "6 ->  \n",
      "7 -> w\n",
      "8 -> e\n",
      "9 -> l\n",
      "10 -> c\n",
      "11 -> o\n",
      "12 -> m\n",
      "13 -> e\n"
     ]
    }
   ],
   "source": [
    "for i in range(len(sent)):\n",
    "    print(f\"{i} -> {sent[i]}\")"
   ]
  },
  {
   "cell_type": "code",
   "execution_count": 23,
   "id": "fd000473-f15b-4a4e-8111-c69efbd29931",
   "metadata": {},
   "outputs": [
    {
     "data": {
      "text/plain": [
       "'hello, welcome'"
      ]
     },
     "execution_count": 23,
     "metadata": {},
     "output_type": "execute_result"
    }
   ],
   "source": [
    "sent"
   ]
  },
  {
   "cell_type": "code",
   "execution_count": 25,
   "id": "1e11673d-bee2-41ea-8fb8-4e9cc83c17f5",
   "metadata": {},
   "outputs": [
    {
     "data": {
      "text/plain": [
       "'llo'"
      ]
     },
     "execution_count": 25,
     "metadata": {},
     "output_type": "execute_result"
    }
   ],
   "source": [
    "sent[2:5]"
   ]
  },
  {
   "cell_type": "code",
   "execution_count": 27,
   "id": "4428b3b4-c1cb-4810-884f-f7ffbf69b9e6",
   "metadata": {},
   "outputs": [
    {
     "data": {
      "text/plain": [
       "'hlo ecm'"
      ]
     },
     "execution_count": 27,
     "metadata": {},
     "output_type": "execute_result"
    }
   ],
   "source": [
    "sent[::2]"
   ]
  },
  {
   "cell_type": "code",
   "execution_count": 35,
   "id": "dceb245a-2f58-46ac-a233-c5b104652521",
   "metadata": {},
   "outputs": [
    {
     "name": "stdin",
     "output_type": "stream",
     "text": [
      "Enter the string welcome\n",
      "Enter the char1 w\n",
      "Enter the char2 z\n"
     ]
    },
    {
     "name": "stdout",
     "output_type": "stream",
     "text": [
      "w found\n",
      "z not found\n"
     ]
    }
   ],
   "source": [
    "# user input -> one word string\n",
    "# user input -> take 2 characters and check if they r in the string\n",
    "# print if they are there or not\n",
    "\n",
    "\n",
    "sent = input(\"Enter the string\")\n",
    "\n",
    "char1 = input(\"Enter the char1\")\n",
    "\n",
    "char2 = input(\"Enter the char2\")\n",
    "\n",
    "char1_found = False\n",
    "char2_found = False\n",
    "\n",
    "for i in sent:\n",
    "    if i == char1:\n",
    "        char1_found = True\n",
    "        print(f\"{char1} found\")\n",
    "    elif i == char2:\n",
    "        char2_found = True\n",
    "        print(f\"{char1} found\")\n",
    "\n",
    "if char1_found == False:\n",
    "    print(\"f{char1} not found\")\n",
    "\n",
    "if char2_found == False:\n",
    "    print(f\"{char2} not found\")"
   ]
  },
  {
   "cell_type": "code",
   "execution_count": 37,
   "id": "ae591f52-6e99-462f-811f-18e3cd9a0c2b",
   "metadata": {},
   "outputs": [],
   "source": [
    "s1 = \"hello\"\n",
    "s2 = \"world\""
   ]
  },
  {
   "cell_type": "code",
   "execution_count": 41,
   "id": "9afb3979-4dab-4ef4-b45d-a51f861c5b24",
   "metadata": {},
   "outputs": [
    {
     "data": {
      "text/plain": [
       "'hello world'"
      ]
     },
     "execution_count": 41,
     "metadata": {},
     "output_type": "execute_result"
    }
   ],
   "source": [
    "s1 + \" \" + s2"
   ]
  },
  {
   "cell_type": "code",
   "execution_count": 43,
   "id": "294a278c-d24c-481c-9d20-728c9042e815",
   "metadata": {},
   "outputs": [],
   "source": [
    "# string methods"
   ]
  },
  {
   "cell_type": "code",
   "execution_count": 45,
   "id": "3d9bbcd1-d6b3-4309-94e7-cd2f242a5f0d",
   "metadata": {},
   "outputs": [],
   "source": [
    "name = \"Kalpesh\""
   ]
  },
  {
   "cell_type": "code",
   "execution_count": 47,
   "id": "9be28327-bc26-4ed9-8668-92387c429def",
   "metadata": {},
   "outputs": [
    {
     "data": {
      "text/plain": [
       "'kalpesh'"
      ]
     },
     "execution_count": 47,
     "metadata": {},
     "output_type": "execute_result"
    }
   ],
   "source": [
    "name.lower()"
   ]
  },
  {
   "cell_type": "code",
   "execution_count": 49,
   "id": "eaa53faf-7e33-4a93-9919-3f40cd3cff56",
   "metadata": {},
   "outputs": [
    {
     "data": {
      "text/plain": [
       "'KALPESH'"
      ]
     },
     "execution_count": 49,
     "metadata": {},
     "output_type": "execute_result"
    }
   ],
   "source": [
    "name.upper()"
   ]
  },
  {
   "cell_type": "code",
   "execution_count": 51,
   "id": "232e1c4f-0ad4-4218-8337-8360f73011eb",
   "metadata": {},
   "outputs": [
    {
     "data": {
      "text/plain": [
       "'Kalpesh'"
      ]
     },
     "execution_count": 51,
     "metadata": {},
     "output_type": "execute_result"
    }
   ],
   "source": [
    "name.title()"
   ]
  },
  {
   "cell_type": "code",
   "execution_count": 53,
   "id": "2e0bab12-997f-45e6-9fc2-10a96ea9a938",
   "metadata": {},
   "outputs": [
    {
     "data": {
      "text/plain": [
       "False"
      ]
     },
     "execution_count": 53,
     "metadata": {},
     "output_type": "execute_result"
    }
   ],
   "source": [
    "name.islower()"
   ]
  },
  {
   "cell_type": "code",
   "execution_count": 55,
   "id": "5cf5e6ff-9177-4861-9cc6-eb1d24f90830",
   "metadata": {},
   "outputs": [
    {
     "data": {
      "text/plain": [
       "True"
      ]
     },
     "execution_count": 55,
     "metadata": {},
     "output_type": "execute_result"
    }
   ],
   "source": [
    "name.istitle()"
   ]
  },
  {
   "cell_type": "code",
   "execution_count": 57,
   "id": "f277b29d-d51d-426b-afc3-4d4340c96d0d",
   "metadata": {},
   "outputs": [
    {
     "data": {
      "text/plain": [
       "'Kalpesh'"
      ]
     },
     "execution_count": 57,
     "metadata": {},
     "output_type": "execute_result"
    }
   ],
   "source": [
    "name"
   ]
  },
  {
   "cell_type": "code",
   "execution_count": 59,
   "id": "180651f6-b18f-415a-afdf-97833655de09",
   "metadata": {},
   "outputs": [
    {
     "data": {
      "text/plain": [
       "False"
      ]
     },
     "execution_count": 59,
     "metadata": {},
     "output_type": "execute_result"
    }
   ],
   "source": [
    "name.startswith(\"ka\")"
   ]
  },
  {
   "cell_type": "code",
   "execution_count": 61,
   "id": "7d72471e-1777-4f56-bece-e5bcb6303f75",
   "metadata": {},
   "outputs": [
    {
     "data": {
      "text/plain": [
       "True"
      ]
     },
     "execution_count": 61,
     "metadata": {},
     "output_type": "execute_result"
    }
   ],
   "source": [
    "name.startswith(\"Ka\")"
   ]
  },
  {
   "cell_type": "code",
   "execution_count": 63,
   "id": "e66f0a6f-4f58-42ac-89eb-edb9cbc206d7",
   "metadata": {},
   "outputs": [
    {
     "data": {
      "text/plain": [
       "'Kalpesh'"
      ]
     },
     "execution_count": 63,
     "metadata": {},
     "output_type": "execute_result"
    }
   ],
   "source": [
    "name"
   ]
  },
  {
   "cell_type": "code",
   "execution_count": 65,
   "id": "d7bc8e03-7168-40cb-8fed-b1a9d26a7edb",
   "metadata": {},
   "outputs": [
    {
     "data": {
      "text/plain": [
       "2"
      ]
     },
     "execution_count": 65,
     "metadata": {},
     "output_type": "execute_result"
    }
   ],
   "source": [
    "name.find('l')"
   ]
  },
  {
   "cell_type": "code",
   "execution_count": 67,
   "id": "87a9a4b8-a59c-4319-b953-fdaa0e6afb9b",
   "metadata": {},
   "outputs": [
    {
     "data": {
      "text/plain": [
       "'Kalpeesh'"
      ]
     },
     "execution_count": 67,
     "metadata": {},
     "output_type": "execute_result"
    }
   ],
   "source": [
    "name.replace('e', \"ee\")"
   ]
  },
  {
   "cell_type": "code",
   "execution_count": 69,
   "id": "9bdc943b-895b-472e-8e9f-c00c992d58ce",
   "metadata": {},
   "outputs": [],
   "source": [
    "n = \" Kalpesh \""
   ]
  },
  {
   "cell_type": "code",
   "execution_count": 71,
   "id": "b5793883-7c2e-4c17-9fd9-cbecbbad4949",
   "metadata": {},
   "outputs": [
    {
     "data": {
      "text/plain": [
       "' Kalpesh '"
      ]
     },
     "execution_count": 71,
     "metadata": {},
     "output_type": "execute_result"
    }
   ],
   "source": [
    "n"
   ]
  },
  {
   "cell_type": "code",
   "execution_count": 73,
   "id": "f263b064-e370-4e00-a7c6-ec39855a1743",
   "metadata": {},
   "outputs": [
    {
     "data": {
      "text/plain": [
       "'Kalpesh '"
      ]
     },
     "execution_count": 73,
     "metadata": {},
     "output_type": "execute_result"
    }
   ],
   "source": [
    "n.lstrip()"
   ]
  },
  {
   "cell_type": "code",
   "execution_count": 75,
   "id": "6aa10b23-5ae9-4047-a438-adcc4d603375",
   "metadata": {},
   "outputs": [
    {
     "data": {
      "text/plain": [
       "' Kalpesh'"
      ]
     },
     "execution_count": 75,
     "metadata": {},
     "output_type": "execute_result"
    }
   ],
   "source": [
    "n.rstrip()"
   ]
  },
  {
   "cell_type": "code",
   "execution_count": 79,
   "id": "964fe34e-5c11-498d-8d25-785e77f872a3",
   "metadata": {},
   "outputs": [],
   "source": [
    "n = n.strip()"
   ]
  },
  {
   "cell_type": "code",
   "execution_count": 81,
   "id": "9f3811c5-445a-4221-bc42-d247065d2809",
   "metadata": {},
   "outputs": [
    {
     "data": {
      "text/plain": [
       "'Kalpesh'"
      ]
     },
     "execution_count": 81,
     "metadata": {},
     "output_type": "execute_result"
    }
   ],
   "source": [
    "n"
   ]
  },
  {
   "cell_type": "code",
   "execution_count": 83,
   "id": "8ec63b21-fb35-4bc3-82f9-76a0b8c14c21",
   "metadata": {},
   "outputs": [],
   "source": [
    "s = \"python, dart, r, ruby, C#\""
   ]
  },
  {
   "cell_type": "code",
   "execution_count": 87,
   "id": "97bf6132-f5c2-4570-90c8-6f88a876ca79",
   "metadata": {},
   "outputs": [],
   "source": [
    "list(s);"
   ]
  },
  {
   "cell_type": "code",
   "execution_count": 89,
   "id": "f2231ded-a4ee-4ff4-9929-8a82c35b2f26",
   "metadata": {},
   "outputs": [
    {
     "data": {
      "text/plain": [
       "['python', ' dart', ' r', ' ruby', ' C#']"
      ]
     },
     "execution_count": 89,
     "metadata": {},
     "output_type": "execute_result"
    }
   ],
   "source": [
    "s.split(',')"
   ]
  },
  {
   "cell_type": "code",
   "execution_count": 95,
   "id": "7859103e-46cb-482d-8c2e-219e6ef6bd1a",
   "metadata": {},
   "outputs": [],
   "source": [
    "l = [\"hello\", \"welcome\", \"go\"]"
   ]
  },
  {
   "cell_type": "code",
   "execution_count": 99,
   "id": "b53f2677-9ae3-495e-9fcc-9ebea675a256",
   "metadata": {},
   "outputs": [
    {
     "data": {
      "text/plain": [
       "'hello-welcome-go'"
      ]
     },
     "execution_count": 99,
     "metadata": {},
     "output_type": "execute_result"
    }
   ],
   "source": [
    "\"-\".join(l)"
   ]
  },
  {
   "cell_type": "code",
   "execution_count": 101,
   "id": "bab0a672-5083-47c5-a916-c39e79e1a3cb",
   "metadata": {},
   "outputs": [],
   "source": [
    "# format strings"
   ]
  },
  {
   "cell_type": "code",
   "execution_count": 103,
   "id": "3cc36252-7507-4f4a-8887-573550c2c64a",
   "metadata": {},
   "outputs": [],
   "source": [
    "name = \"kalpesh\"\n",
    "marks = 75"
   ]
  },
  {
   "cell_type": "code",
   "execution_count": 105,
   "id": "b21c90ff-7055-42e7-bba6-8af908c81ccf",
   "metadata": {},
   "outputs": [
    {
     "data": {
      "text/plain": [
       "'my name is kalpesh and marks are 75'"
      ]
     },
     "execution_count": 105,
     "metadata": {},
     "output_type": "execute_result"
    }
   ],
   "source": [
    "\"my name is {} and marks are {}\".format(name, marks)"
   ]
  },
  {
   "cell_type": "code",
   "execution_count": null,
   "id": "32917afb-6013-4ceb-8463-a0eb3e843d41",
   "metadata": {},
   "outputs": [],
   "source": []
  }
 ],
 "metadata": {
  "kernelspec": {
   "display_name": "Python 3 (ipykernel)",
   "language": "python",
   "name": "python3"
  },
  "language_info": {
   "codemirror_mode": {
    "name": "ipython",
    "version": 3
   },
   "file_extension": ".py",
   "mimetype": "text/x-python",
   "name": "python",
   "nbconvert_exporter": "python",
   "pygments_lexer": "ipython3",
   "version": "3.11.9"
  }
 },
 "nbformat": 4,
 "nbformat_minor": 5
}
