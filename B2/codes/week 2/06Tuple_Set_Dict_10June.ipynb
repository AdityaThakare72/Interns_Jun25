{
 "cells": [
  {
   "cell_type": "markdown",
   "id": "5e03e0b0-3f7f-45e2-8fb6-a327273bf7dc",
   "metadata": {},
   "source": [
    "# tuple"
   ]
  },
  {
   "cell_type": "code",
   "execution_count": 2,
   "id": "f7698af1-074a-47f5-b4e1-52d0b151b693",
   "metadata": {},
   "outputs": [],
   "source": [
    "t = (34, 56, 89, 12, 10)"
   ]
  },
  {
   "cell_type": "code",
   "execution_count": 4,
   "id": "967b07bc-987d-4a34-9ba3-8bde574f9fea",
   "metadata": {},
   "outputs": [
    {
     "data": {
      "text/plain": [
       "(34, 56, 89, 12, 10)"
      ]
     },
     "execution_count": 4,
     "metadata": {},
     "output_type": "execute_result"
    }
   ],
   "source": [
    "t"
   ]
  },
  {
   "cell_type": "code",
   "execution_count": 6,
   "id": "13a6efc6-3999-42b7-a323-568141c69653",
   "metadata": {},
   "outputs": [
    {
     "data": {
      "text/plain": [
       "tuple"
      ]
     },
     "execution_count": 6,
     "metadata": {},
     "output_type": "execute_result"
    }
   ],
   "source": [
    "type(t)"
   ]
  },
  {
   "cell_type": "code",
   "execution_count": 16,
   "id": "451afa89-a001-4141-af86-7d706733d0f6",
   "metadata": {},
   "outputs": [],
   "source": [
    "t = (34, 56, 89, 12, 10, 10, True) # duplicates are allowed/ hetero"
   ]
  },
  {
   "cell_type": "code",
   "execution_count": 18,
   "id": "66a2a909-eb45-495d-bc31-be606c5a40eb",
   "metadata": {},
   "outputs": [
    {
     "data": {
      "text/plain": [
       "(34, 56, 89, 12, 10, 10, True)"
      ]
     },
     "execution_count": 18,
     "metadata": {},
     "output_type": "execute_result"
    }
   ],
   "source": [
    "t"
   ]
  },
  {
   "cell_type": "code",
   "execution_count": 20,
   "id": "7cc162d5-02bf-4d5c-a412-bfc56c2afe66",
   "metadata": {},
   "outputs": [
    {
     "data": {
      "text/plain": [
       "12"
      ]
     },
     "execution_count": 20,
     "metadata": {},
     "output_type": "execute_result"
    }
   ],
   "source": [
    "t[-4]  # ordered"
   ]
  },
  {
   "cell_type": "code",
   "execution_count": 22,
   "id": "e514e7c3-ffc5-4f17-af0e-819349d3123b",
   "metadata": {},
   "outputs": [
    {
     "ename": "TypeError",
     "evalue": "'tuple' object does not support item assignment",
     "output_type": "error",
     "traceback": [
      "\u001b[0;31m---------------------------------------------------------------------------\u001b[0m",
      "\u001b[0;31mTypeError\u001b[0m                                 Traceback (most recent call last)",
      "Cell \u001b[0;32mIn[22], line 1\u001b[0m\n\u001b[0;32m----> 1\u001b[0m t[\u001b[38;5;241m-\u001b[39m\u001b[38;5;241m4\u001b[39m] \u001b[38;5;241m=\u001b[39m \u001b[38;5;241m100\u001b[39m\n",
      "\u001b[0;31mTypeError\u001b[0m: 'tuple' object does not support item assignment"
     ]
    }
   ],
   "source": [
    "t[-4] = 100"
   ]
  },
  {
   "cell_type": "code",
   "execution_count": 24,
   "id": "97c53f0a-dde5-4ead-b564-35975465bd05",
   "metadata": {},
   "outputs": [],
   "source": [
    "# creating tuples"
   ]
  },
  {
   "cell_type": "code",
   "execution_count": 32,
   "id": "2a376b2e-6470-4c22-9d41-5335869f8033",
   "metadata": {},
   "outputs": [],
   "source": [
    "t = 23, 56, 78, 10 # python infers this as tuple"
   ]
  },
  {
   "cell_type": "code",
   "execution_count": 34,
   "id": "cf7407ac-54cb-441b-8aff-73851492d3ce",
   "metadata": {},
   "outputs": [
    {
     "data": {
      "text/plain": [
       "(23, 56, 78, 10)"
      ]
     },
     "execution_count": 34,
     "metadata": {},
     "output_type": "execute_result"
    }
   ],
   "source": [
    "t"
   ]
  },
  {
   "cell_type": "code",
   "execution_count": 36,
   "id": "55cb06c2-b57b-4903-9fa1-c43b5f526dfe",
   "metadata": {},
   "outputs": [
    {
     "data": {
      "text/plain": [
       "tuple"
      ]
     },
     "execution_count": 36,
     "metadata": {},
     "output_type": "execute_result"
    }
   ],
   "source": [
    "type(t)"
   ]
  },
  {
   "cell_type": "code",
   "execution_count": 42,
   "id": "b0865947-3db5-4922-94af-69121ec4fbc0",
   "metadata": {},
   "outputs": [],
   "source": [
    "t1 = (34,)"
   ]
  },
  {
   "cell_type": "code",
   "execution_count": 44,
   "id": "f850df06-3941-4078-8ab4-13af655e03c3",
   "metadata": {},
   "outputs": [
    {
     "data": {
      "text/plain": [
       "(34,)"
      ]
     },
     "execution_count": 44,
     "metadata": {},
     "output_type": "execute_result"
    }
   ],
   "source": [
    "t1"
   ]
  },
  {
   "cell_type": "code",
   "execution_count": 46,
   "id": "99ac7795-6070-42f1-9987-996d3a1efe45",
   "metadata": {},
   "outputs": [
    {
     "data": {
      "text/plain": [
       "tuple"
      ]
     },
     "execution_count": 46,
     "metadata": {},
     "output_type": "execute_result"
    }
   ],
   "source": [
    "type(t1)"
   ]
  },
  {
   "cell_type": "code",
   "execution_count": 54,
   "id": "9b64477b-48e0-40ef-8ef6-6978f7840c6c",
   "metadata": {},
   "outputs": [],
   "source": [
    "t2 = ()"
   ]
  },
  {
   "cell_type": "code",
   "execution_count": 56,
   "id": "d2281e57-c5af-49b3-9321-5b5c1463c133",
   "metadata": {},
   "outputs": [
    {
     "data": {
      "text/plain": [
       "()"
      ]
     },
     "execution_count": 56,
     "metadata": {},
     "output_type": "execute_result"
    }
   ],
   "source": [
    "t2"
   ]
  },
  {
   "cell_type": "code",
   "execution_count": 58,
   "id": "ac6e8c05-c529-4151-bf6a-f2a6d47a1ca2",
   "metadata": {},
   "outputs": [],
   "source": [
    "# unpacking tuple"
   ]
  },
  {
   "cell_type": "code",
   "execution_count": 60,
   "id": "13b11126-7b7b-432d-bc08-4d82f5356783",
   "metadata": {},
   "outputs": [],
   "source": [
    "t2 = (34, 56, 78, 12)"
   ]
  },
  {
   "cell_type": "code",
   "execution_count": 62,
   "id": "cc40786d-625e-4aa8-b3e6-f87f60dceeb5",
   "metadata": {},
   "outputs": [],
   "source": [
    "x, y, z, a, = t2"
   ]
  },
  {
   "cell_type": "code",
   "execution_count": 64,
   "id": "284bf07d-eb70-4041-8b4b-8af238ba3f8a",
   "metadata": {},
   "outputs": [
    {
     "data": {
      "text/plain": [
       "34"
      ]
     },
     "execution_count": 64,
     "metadata": {},
     "output_type": "execute_result"
    }
   ],
   "source": [
    "x"
   ]
  },
  {
   "cell_type": "code",
   "execution_count": 66,
   "id": "17352bb4-e4c7-4fb5-a5e1-81ae00664375",
   "metadata": {},
   "outputs": [],
   "source": [
    "t5 = (2, 5, 78, [45, 19], 56)"
   ]
  },
  {
   "cell_type": "code",
   "execution_count": 72,
   "id": "f45b0d77-fc51-4176-8201-9dc6157749ae",
   "metadata": {},
   "outputs": [],
   "source": [
    "t5[3][0] =100"
   ]
  },
  {
   "cell_type": "code",
   "execution_count": 74,
   "id": "6b7d4958-0256-4521-8377-a7c87064df6e",
   "metadata": {},
   "outputs": [
    {
     "data": {
      "text/plain": [
       "(2, 5, 78, [100, 19], 56)"
      ]
     },
     "execution_count": 74,
     "metadata": {},
     "output_type": "execute_result"
    }
   ],
   "source": [
    "t5"
   ]
  },
  {
   "cell_type": "code",
   "execution_count": 76,
   "id": "7b72dbf9-0903-4c00-8ed7-8397a5988aef",
   "metadata": {},
   "outputs": [
    {
     "data": {
      "text/plain": [
       "(23, 56, 78, 10)"
      ]
     },
     "execution_count": 76,
     "metadata": {},
     "output_type": "execute_result"
    }
   ],
   "source": [
    "t"
   ]
  },
  {
   "cell_type": "code",
   "execution_count": 78,
   "id": "cb4b03a8-076d-4298-b204-45f419d45070",
   "metadata": {},
   "outputs": [
    {
     "data": {
      "text/plain": [
       "4"
      ]
     },
     "execution_count": 78,
     "metadata": {},
     "output_type": "execute_result"
    }
   ],
   "source": [
    "len(t)"
   ]
  },
  {
   "cell_type": "code",
   "execution_count": 80,
   "id": "d608b18f-11dc-4f05-be51-3104c221309b",
   "metadata": {},
   "outputs": [
    {
     "data": {
      "text/plain": [
       "78"
      ]
     },
     "execution_count": 80,
     "metadata": {},
     "output_type": "execute_result"
    }
   ],
   "source": [
    "max(t)"
   ]
  },
  {
   "cell_type": "code",
   "execution_count": 84,
   "id": "7c7a6718-ef36-4757-8b56-48f1b13a69f0",
   "metadata": {},
   "outputs": [
    {
     "data": {
      "text/plain": [
       "2"
      ]
     },
     "execution_count": 84,
     "metadata": {},
     "output_type": "execute_result"
    }
   ],
   "source": [
    "t.index(78)"
   ]
  },
  {
   "cell_type": "code",
   "execution_count": 86,
   "id": "b3f44d27-8940-4fb9-ad69-b16fcb75fca5",
   "metadata": {},
   "outputs": [
    {
     "data": {
      "text/plain": [
       "(23, 56, 78, 10)"
      ]
     },
     "execution_count": 86,
     "metadata": {},
     "output_type": "execute_result"
    }
   ],
   "source": [
    "t"
   ]
  },
  {
   "cell_type": "code",
   "execution_count": 88,
   "id": "43aff2de-97d3-458c-be04-3846d1853aaf",
   "metadata": {},
   "outputs": [
    {
     "data": {
      "text/plain": [
       "[23, 56, 78, 10]"
      ]
     },
     "execution_count": 88,
     "metadata": {},
     "output_type": "execute_result"
    }
   ],
   "source": [
    "list(t)"
   ]
  },
  {
   "cell_type": "code",
   "execution_count": 94,
   "id": "8ad6acc1-db50-4a64-bf15-86b7e4c3b498",
   "metadata": {},
   "outputs": [
    {
     "name": "stdout",
     "output_type": "stream",
     "text": [
      "Help on class tuple in module builtins:\n",
      "\n",
      "class tuple(object)\n",
      " |  tuple(iterable=(), /)\n",
      " |  \n",
      " |  Built-in immutable sequence.\n",
      " |  \n",
      " |  If no argument is given, the constructor returns an empty tuple.\n",
      " |  If iterable is specified the tuple is initialized from iterable's items.\n",
      " |  \n",
      " |  If the argument is a tuple, the return value is the same object.\n",
      " |  \n",
      " |  Built-in subclasses:\n",
      " |      asyncgen_hooks\n",
      " |      MonthDayNano\n",
      " |      UnraisableHookArgs\n",
      " |  \n",
      " |  Methods defined here:\n",
      " |  \n",
      " |  __add__(self, value, /)\n",
      " |      Return self+value.\n",
      " |  \n",
      " |  __contains__(self, key, /)\n",
      " |      Return key in self.\n",
      " |  \n",
      " |  __eq__(self, value, /)\n",
      " |      Return self==value.\n",
      " |  \n",
      " |  __ge__(self, value, /)\n",
      " |      Return self>=value.\n",
      " |  \n",
      " |  __getattribute__(self, name, /)\n",
      " |      Return getattr(self, name).\n",
      " |  \n",
      " |  __getitem__(self, key, /)\n",
      " |      Return self[key].\n",
      " |  \n",
      " |  __getnewargs__(self, /)\n",
      " |  \n",
      " |  __gt__(self, value, /)\n",
      " |      Return self>value.\n",
      " |  \n",
      " |  __hash__(self, /)\n",
      " |      Return hash(self).\n",
      " |  \n",
      " |  __iter__(self, /)\n",
      " |      Implement iter(self).\n",
      " |  \n",
      " |  __le__(self, value, /)\n",
      " |      Return self<=value.\n",
      " |  \n",
      " |  __len__(self, /)\n",
      " |      Return len(self).\n",
      " |  \n",
      " |  __lt__(self, value, /)\n",
      " |      Return self<value.\n",
      " |  \n",
      " |  __mul__(self, value, /)\n",
      " |      Return self*value.\n",
      " |  \n",
      " |  __ne__(self, value, /)\n",
      " |      Return self!=value.\n",
      " |  \n",
      " |  __repr__(self, /)\n",
      " |      Return repr(self).\n",
      " |  \n",
      " |  __rmul__(self, value, /)\n",
      " |      Return value*self.\n",
      " |  \n",
      " |  count(self, value, /)\n",
      " |      Return number of occurrences of value.\n",
      " |  \n",
      " |  index(self, value, start=0, stop=9223372036854775807, /)\n",
      " |      Return first index of value.\n",
      " |      \n",
      " |      Raises ValueError if the value is not present.\n",
      " |  \n",
      " |  ----------------------------------------------------------------------\n",
      " |  Class methods defined here:\n",
      " |  \n",
      " |  __class_getitem__(...)\n",
      " |      See PEP 585\n",
      " |  \n",
      " |  ----------------------------------------------------------------------\n",
      " |  Static methods defined here:\n",
      " |  \n",
      " |  __new__(*args, **kwargs)\n",
      " |      Create and return a new object.  See help(type) for accurate signature.\n",
      "\n"
     ]
    }
   ],
   "source": [
    "help(tuple)"
   ]
  },
  {
   "cell_type": "markdown",
   "id": "8d1d993f-ad34-4990-bb34-7cbf28bd5d29",
   "metadata": {},
   "source": [
    "# sets"
   ]
  },
  {
   "cell_type": "code",
   "execution_count": 97,
   "id": "7787047a-c06b-4ba2-8888-64cc50c1f058",
   "metadata": {},
   "outputs": [],
   "source": [
    "s = {34, 56, 12, 67}"
   ]
  },
  {
   "cell_type": "code",
   "execution_count": 99,
   "id": "0a1f5581-1c0d-49c5-8c4e-5ff2a1d4601b",
   "metadata": {},
   "outputs": [
    {
     "data": {
      "text/plain": [
       "{12, 34, 56, 67}"
      ]
     },
     "execution_count": 99,
     "metadata": {},
     "output_type": "execute_result"
    }
   ],
   "source": [
    "s"
   ]
  },
  {
   "cell_type": "code",
   "execution_count": 101,
   "id": "2729a130-5d8c-47e9-b917-ec6f364efe5c",
   "metadata": {},
   "outputs": [
    {
     "data": {
      "text/plain": [
       "set"
      ]
     },
     "execution_count": 101,
     "metadata": {},
     "output_type": "execute_result"
    }
   ],
   "source": [
    "type(s)"
   ]
  },
  {
   "cell_type": "code",
   "execution_count": 107,
   "id": "34bcf3db-7fc2-4ea8-8ddf-cf75426edcaf",
   "metadata": {},
   "outputs": [],
   "source": [
    "s = {34, 56, 67.66, True, True}  # hetero, duplicates are not allowed"
   ]
  },
  {
   "cell_type": "code",
   "execution_count": 109,
   "id": "d370416f-96bd-416b-bfe1-e39c9d1c75d6",
   "metadata": {},
   "outputs": [
    {
     "data": {
      "text/plain": [
       "{True, 34, 56, 67.66}"
      ]
     },
     "execution_count": 109,
     "metadata": {},
     "output_type": "execute_result"
    }
   ],
   "source": [
    "s"
   ]
  },
  {
   "cell_type": "code",
   "execution_count": 113,
   "id": "49ff8320-dfe0-4a42-a19a-f2108622eb53",
   "metadata": {},
   "outputs": [
    {
     "ename": "TypeError",
     "evalue": "'set' object is not subscriptable",
     "output_type": "error",
     "traceback": [
      "\u001b[0;31m---------------------------------------------------------------------------\u001b[0m",
      "\u001b[0;31mTypeError\u001b[0m                                 Traceback (most recent call last)",
      "Cell \u001b[0;32mIn[113], line 1\u001b[0m\n\u001b[0;32m----> 1\u001b[0m s[\u001b[38;5;241m5\u001b[39m]\n",
      "\u001b[0;31mTypeError\u001b[0m: 'set' object is not subscriptable"
     ]
    }
   ],
   "source": [
    "s[5] # unordered"
   ]
  },
  {
   "cell_type": "code",
   "execution_count": 115,
   "id": "a9e1cf94-c10d-4c0d-8004-87ac19a13237",
   "metadata": {},
   "outputs": [],
   "source": [
    "# mutable"
   ]
  },
  {
   "cell_type": "code",
   "execution_count": 117,
   "id": "972fd985-67ea-46cb-ba5d-7e237ce476b2",
   "metadata": {},
   "outputs": [
    {
     "data": {
      "text/plain": [
       "{True, 34, 56, 67.66}"
      ]
     },
     "execution_count": 117,
     "metadata": {},
     "output_type": "execute_result"
    }
   ],
   "source": [
    "s"
   ]
  },
  {
   "cell_type": "code",
   "execution_count": 119,
   "id": "0a1c394b-0de1-40f1-836f-7c79dfd53475",
   "metadata": {},
   "outputs": [],
   "source": [
    "s.add(30)"
   ]
  },
  {
   "cell_type": "code",
   "execution_count": 121,
   "id": "ee36bc48-6120-4124-ba54-f0b3b53a150c",
   "metadata": {},
   "outputs": [
    {
     "data": {
      "text/plain": [
       "{True, 30, 34, 56, 67.66}"
      ]
     },
     "execution_count": 121,
     "metadata": {},
     "output_type": "execute_result"
    }
   ],
   "source": [
    "s"
   ]
  },
  {
   "cell_type": "code",
   "execution_count": 123,
   "id": "65b65bcd-8bac-4b76-b548-f3d4f83da1a9",
   "metadata": {},
   "outputs": [],
   "source": [
    "s = {}"
   ]
  },
  {
   "cell_type": "code",
   "execution_count": 125,
   "id": "704a4b65-fffe-406b-bcfe-a6d5607201bb",
   "metadata": {},
   "outputs": [
    {
     "data": {
      "text/plain": [
       "{}"
      ]
     },
     "execution_count": 125,
     "metadata": {},
     "output_type": "execute_result"
    }
   ],
   "source": [
    "s"
   ]
  },
  {
   "cell_type": "code",
   "execution_count": 127,
   "id": "d8939887-afe2-485b-b87c-84cffd34cb56",
   "metadata": {},
   "outputs": [
    {
     "data": {
      "text/plain": [
       "dict"
      ]
     },
     "execution_count": 127,
     "metadata": {},
     "output_type": "execute_result"
    }
   ],
   "source": [
    "type(s)"
   ]
  },
  {
   "cell_type": "code",
   "execution_count": 129,
   "id": "9f13c167-74d6-4056-b470-7695737f371c",
   "metadata": {},
   "outputs": [],
   "source": [
    "s = set()"
   ]
  },
  {
   "cell_type": "code",
   "execution_count": 133,
   "id": "1545a0af-d2c5-4fd1-9cfe-af3b8e07d245",
   "metadata": {},
   "outputs": [],
   "source": [
    "s.add(2)"
   ]
  },
  {
   "cell_type": "code",
   "execution_count": 137,
   "id": "71d6d708-99bd-417c-9a33-445066fefa7a",
   "metadata": {},
   "outputs": [
    {
     "data": {
      "text/plain": [
       "set"
      ]
     },
     "execution_count": 137,
     "metadata": {},
     "output_type": "execute_result"
    }
   ],
   "source": [
    "type(s)"
   ]
  },
  {
   "cell_type": "code",
   "execution_count": 139,
   "id": "fb288437-06f3-400a-b2f6-9afe2e371dda",
   "metadata": {},
   "outputs": [],
   "source": [
    "# remove, discard, pop"
   ]
  },
  {
   "cell_type": "code",
   "execution_count": 147,
   "id": "bf6bb560-e765-4eb5-b78b-b3a40444aa0f",
   "metadata": {},
   "outputs": [],
   "source": [
    "s = {34, 56, 78, 10, 70}"
   ]
  },
  {
   "cell_type": "code",
   "execution_count": 149,
   "id": "ea21202f-13f7-43f9-9000-aa5d3efce51e",
   "metadata": {},
   "outputs": [
    {
     "data": {
      "text/plain": [
       "{10, 34, 56, 70, 78}"
      ]
     },
     "execution_count": 149,
     "metadata": {},
     "output_type": "execute_result"
    }
   ],
   "source": [
    "s"
   ]
  },
  {
   "cell_type": "code",
   "execution_count": 151,
   "id": "cef65b79-ffc6-40d4-af5a-14e00241eec2",
   "metadata": {},
   "outputs": [],
   "source": [
    "s.remove(70)"
   ]
  },
  {
   "cell_type": "code",
   "execution_count": 153,
   "id": "f16e0c57-4ee5-4be6-8280-0f55d1239d4e",
   "metadata": {},
   "outputs": [],
   "source": [
    "s.discard(78)"
   ]
  },
  {
   "cell_type": "code",
   "execution_count": 155,
   "id": "42e4dc7f-7d73-4801-993a-5ac08d1b2d9f",
   "metadata": {},
   "outputs": [
    {
     "data": {
      "text/plain": [
       "{10, 34, 56}"
      ]
     },
     "execution_count": 155,
     "metadata": {},
     "output_type": "execute_result"
    }
   ],
   "source": [
    "s"
   ]
  },
  {
   "cell_type": "code",
   "execution_count": 157,
   "id": "99f2061b-8c41-4042-92d8-30930667c14f",
   "metadata": {},
   "outputs": [
    {
     "ename": "KeyError",
     "evalue": "100",
     "output_type": "error",
     "traceback": [
      "\u001b[0;31m---------------------------------------------------------------------------\u001b[0m",
      "\u001b[0;31mKeyError\u001b[0m                                  Traceback (most recent call last)",
      "Cell \u001b[0;32mIn[157], line 1\u001b[0m\n\u001b[0;32m----> 1\u001b[0m s\u001b[38;5;241m.\u001b[39mremove(\u001b[38;5;241m100\u001b[39m)\n",
      "\u001b[0;31mKeyError\u001b[0m: 100"
     ]
    }
   ],
   "source": [
    "s.remove(100)"
   ]
  },
  {
   "cell_type": "code",
   "execution_count": 159,
   "id": "29dd8c90-ab5b-4bf3-8b95-18dde357c7b7",
   "metadata": {},
   "outputs": [],
   "source": [
    "s.discard(100)"
   ]
  },
  {
   "cell_type": "code",
   "execution_count": 163,
   "id": "a812c10e-e00e-4d68-9bac-681162524b8a",
   "metadata": {},
   "outputs": [
    {
     "data": {
      "text/plain": [
       "34"
      ]
     },
     "execution_count": 163,
     "metadata": {},
     "output_type": "execute_result"
    }
   ],
   "source": [
    "s.pop()"
   ]
  },
  {
   "cell_type": "code",
   "execution_count": 166,
   "id": "b7bcec45-79ca-493d-aee7-dac9364fadbc",
   "metadata": {},
   "outputs": [
    {
     "data": {
      "text/plain": [
       "{10, 56}"
      ]
     },
     "execution_count": 166,
     "metadata": {},
     "output_type": "execute_result"
    }
   ],
   "source": [
    "s"
   ]
  },
  {
   "cell_type": "code",
   "execution_count": 168,
   "id": "9ab5fe06-2ba9-4187-8d06-a4072d231016",
   "metadata": {},
   "outputs": [],
   "source": [
    "s1 = {1, 2, 3, 4}\n",
    "s2 = {3, 4, 5, 6}"
   ]
  },
  {
   "cell_type": "code",
   "execution_count": 170,
   "id": "1552dec6-b6ca-4848-8965-b5dcb4da9f37",
   "metadata": {},
   "outputs": [
    {
     "data": {
      "text/plain": [
       "{1, 2, 3, 4, 5, 6}"
      ]
     },
     "execution_count": 170,
     "metadata": {},
     "output_type": "execute_result"
    }
   ],
   "source": [
    "s1.union(s2)"
   ]
  },
  {
   "cell_type": "code",
   "execution_count": 172,
   "id": "b6dd4b95-b3ca-4b27-ab94-7503c6653dfe",
   "metadata": {},
   "outputs": [
    {
     "data": {
      "text/plain": [
       "{3, 4}"
      ]
     },
     "execution_count": 172,
     "metadata": {},
     "output_type": "execute_result"
    }
   ],
   "source": [
    "s1.intersection(s2)"
   ]
  },
  {
   "cell_type": "code",
   "execution_count": 174,
   "id": "88ecd013-451a-41db-bd62-6bf2469eabea",
   "metadata": {},
   "outputs": [
    {
     "data": {
      "text/plain": [
       "{1, 2}"
      ]
     },
     "execution_count": 174,
     "metadata": {},
     "output_type": "execute_result"
    }
   ],
   "source": [
    "s1.difference(s2)"
   ]
  },
  {
   "cell_type": "code",
   "execution_count": 176,
   "id": "7dc675cc-4435-4c4c-aec1-11e311aa6189",
   "metadata": {},
   "outputs": [
    {
     "data": {
      "text/plain": [
       "{5, 6}"
      ]
     },
     "execution_count": 176,
     "metadata": {},
     "output_type": "execute_result"
    }
   ],
   "source": [
    "s2.difference(s1)"
   ]
  },
  {
   "cell_type": "code",
   "execution_count": 178,
   "id": "145fd80d-beb6-49f6-94d0-e46bebc94274",
   "metadata": {},
   "outputs": [
    {
     "data": {
      "text/plain": [
       "{1, 2, 5, 6}"
      ]
     },
     "execution_count": 178,
     "metadata": {},
     "output_type": "execute_result"
    }
   ],
   "source": [
    "s1.symmetric_difference(s2)"
   ]
  },
  {
   "cell_type": "code",
   "execution_count": 180,
   "id": "32938c60-4cdc-4730-b752-ca289c5f303c",
   "metadata": {},
   "outputs": [],
   "source": [
    "s1 = {1, 2, 3, 4, 5, 6, 7}\n",
    "s2 = {3, 4, 5, 6}\n",
    "s3 = {3, 4, 30}"
   ]
  },
  {
   "cell_type": "code",
   "execution_count": 182,
   "id": "6e3626c0-703c-49c5-9e40-17a8625e7bd8",
   "metadata": {},
   "outputs": [
    {
     "data": {
      "text/plain": [
       "True"
      ]
     },
     "execution_count": 182,
     "metadata": {},
     "output_type": "execute_result"
    }
   ],
   "source": [
    "s1.issuperset(s2)"
   ]
  },
  {
   "cell_type": "code",
   "execution_count": 184,
   "id": "828f5be8-6fcc-4db8-8a28-1f37230bc374",
   "metadata": {},
   "outputs": [
    {
     "data": {
      "text/plain": [
       "False"
      ]
     },
     "execution_count": 184,
     "metadata": {},
     "output_type": "execute_result"
    }
   ],
   "source": [
    "s1.issuperset(s3)"
   ]
  },
  {
   "cell_type": "code",
   "execution_count": 186,
   "id": "430de1b7-1024-4438-a56c-5277c22da455",
   "metadata": {},
   "outputs": [
    {
     "data": {
      "text/plain": [
       "True"
      ]
     },
     "execution_count": 186,
     "metadata": {},
     "output_type": "execute_result"
    }
   ],
   "source": [
    "s2.issubset(s1)"
   ]
  },
  {
   "cell_type": "code",
   "execution_count": 188,
   "id": "57c90c0d-17c3-49de-86fa-a158e3766ba5",
   "metadata": {},
   "outputs": [
    {
     "data": {
      "text/plain": [
       "{10, 56}"
      ]
     },
     "execution_count": 188,
     "metadata": {},
     "output_type": "execute_result"
    }
   ],
   "source": [
    "s"
   ]
  },
  {
   "cell_type": "code",
   "execution_count": 190,
   "id": "43b3304b-cd6e-4776-918d-33d94ddc9751",
   "metadata": {},
   "outputs": [
    {
     "data": {
      "text/plain": [
       "True"
      ]
     },
     "execution_count": 190,
     "metadata": {},
     "output_type": "execute_result"
    }
   ],
   "source": [
    "10 in s"
   ]
  },
  {
   "cell_type": "markdown",
   "id": "263efb13-6c6f-4373-bb7c-8bab4c62b232",
   "metadata": {},
   "source": [
    "# Dictionary"
   ]
  },
  {
   "cell_type": "code",
   "execution_count": 195,
   "id": "344802b3-49a9-43c2-a7cd-5f01fdc53704",
   "metadata": {},
   "outputs": [],
   "source": [
    "d = {1: \"Raj\", 2:\"Geeta\", 3: \"Natasha\", 5: \"Dheeraj\"}"
   ]
  },
  {
   "cell_type": "code",
   "execution_count": 197,
   "id": "fc4a3734-f525-4e1c-b93a-330d4946bdb6",
   "metadata": {},
   "outputs": [
    {
     "data": {
      "text/plain": [
       "{1: 'Raj', 2: 'Geeta', 3: 'Natasha', 5: 'Dheeraj'}"
      ]
     },
     "execution_count": 197,
     "metadata": {},
     "output_type": "execute_result"
    }
   ],
   "source": [
    "d"
   ]
  },
  {
   "cell_type": "code",
   "execution_count": 199,
   "id": "820efcfd-6c51-4d03-ae5c-e6998efde11d",
   "metadata": {},
   "outputs": [
    {
     "data": {
      "text/plain": [
       "dict"
      ]
     },
     "execution_count": 199,
     "metadata": {},
     "output_type": "execute_result"
    }
   ],
   "source": [
    "type(d)"
   ]
  },
  {
   "cell_type": "code",
   "execution_count": 201,
   "id": "88c3b857-2470-411b-82bf-2260257936f0",
   "metadata": {},
   "outputs": [
    {
     "data": {
      "text/plain": [
       "'Raj'"
      ]
     },
     "execution_count": 201,
     "metadata": {},
     "output_type": "execute_result"
    }
   ],
   "source": [
    "d[1] # unordered,  keys are used to access the data"
   ]
  },
  {
   "cell_type": "code",
   "execution_count": 203,
   "id": "d47e02a5-fe96-4632-aac6-aee27c89b523",
   "metadata": {},
   "outputs": [],
   "source": [
    "# mutable\n",
    "d[1] = \"Pranav\""
   ]
  },
  {
   "cell_type": "code",
   "execution_count": 205,
   "id": "fad87b83-501a-4f36-b165-51e9c4f4fe25",
   "metadata": {},
   "outputs": [
    {
     "data": {
      "text/plain": [
       "{1: 'Pranav', 2: 'Geeta', 3: 'Natasha', 5: 'Dheeraj'}"
      ]
     },
     "execution_count": 205,
     "metadata": {},
     "output_type": "execute_result"
    }
   ],
   "source": [
    "d"
   ]
  },
  {
   "cell_type": "code",
   "execution_count": 207,
   "id": "20f2a0e0-1ad2-4e3f-8745-7cb3d374f3be",
   "metadata": {},
   "outputs": [],
   "source": [
    "# keys are immutable (cannot change the values/ but add or delete)"
   ]
  },
  {
   "cell_type": "code",
   "execution_count": 209,
   "id": "00d73341-c690-40cf-bece-6142c9ef58fe",
   "metadata": {},
   "outputs": [],
   "source": [
    "d[\"Ray\"] = 56"
   ]
  },
  {
   "cell_type": "code",
   "execution_count": 211,
   "id": "8be78f94-126d-4f1a-8e5f-9254e3a2e4f0",
   "metadata": {},
   "outputs": [
    {
     "data": {
      "text/plain": [
       "{1: 'Pranav', 2: 'Geeta', 3: 'Natasha', 5: 'Dheeraj', 'Ray': 56}"
      ]
     },
     "execution_count": 211,
     "metadata": {},
     "output_type": "execute_result"
    }
   ],
   "source": [
    "d"
   ]
  },
  {
   "cell_type": "code",
   "execution_count": 213,
   "id": "4b7c6ec8-8d57-4a55-8a83-e6e22cfb845f",
   "metadata": {},
   "outputs": [],
   "source": [
    "d[(2,3)] = \"ok\""
   ]
  },
  {
   "cell_type": "code",
   "execution_count": 215,
   "id": "787df167-f0d0-48ea-baf6-83afe377987f",
   "metadata": {},
   "outputs": [
    {
     "data": {
      "text/plain": [
       "{1: 'Pranav', 2: 'Geeta', 3: 'Natasha', 5: 'Dheeraj', 'Ray': 56, (2, 3): 'ok'}"
      ]
     },
     "execution_count": 215,
     "metadata": {},
     "output_type": "execute_result"
    }
   ],
   "source": [
    "d"
   ]
  },
  {
   "cell_type": "code",
   "execution_count": 217,
   "id": "ea3e227b-c76e-4c54-882a-016ec5fb3719",
   "metadata": {},
   "outputs": [],
   "source": [
    "d[10] = (4, 6)"
   ]
  },
  {
   "cell_type": "code",
   "execution_count": 219,
   "id": "eb26a410-a474-4d2b-ac8e-96e42e6e89f5",
   "metadata": {},
   "outputs": [
    {
     "data": {
      "text/plain": [
       "{1: 'Pranav',\n",
       " 2: 'Geeta',\n",
       " 3: 'Natasha',\n",
       " 5: 'Dheeraj',\n",
       " 'Ray': 56,\n",
       " (2, 3): 'ok',\n",
       " 10: (4, 6)}"
      ]
     },
     "execution_count": 219,
     "metadata": {},
     "output_type": "execute_result"
    }
   ],
   "source": [
    "d"
   ]
  },
  {
   "cell_type": "code",
   "execution_count": 223,
   "id": "6d000d08-b1d7-4a66-9dbc-3c786279a2da",
   "metadata": {},
   "outputs": [
    {
     "ename": "TypeError",
     "evalue": "unhashable type: 'list'",
     "output_type": "error",
     "traceback": [
      "\u001b[0;31m---------------------------------------------------------------------------\u001b[0m",
      "\u001b[0;31mTypeError\u001b[0m                                 Traceback (most recent call last)",
      "Cell \u001b[0;32mIn[223], line 1\u001b[0m\n\u001b[0;32m----> 1\u001b[0m d[[\u001b[38;5;241m2\u001b[39m, \u001b[38;5;241m310\u001b[39m]] \u001b[38;5;241m=\u001b[39m \u001b[38;5;124m'\u001b[39m\u001b[38;5;124mnot ok\u001b[39m\u001b[38;5;124m'\u001b[39m\n",
      "\u001b[0;31mTypeError\u001b[0m: unhashable type: 'list'"
     ]
    }
   ],
   "source": [
    "d[[2, 310]] = 'not ok'"
   ]
  },
  {
   "cell_type": "code",
   "execution_count": 225,
   "id": "2eacf5fc-dbe9-44eb-95ea-978678209fdf",
   "metadata": {},
   "outputs": [
    {
     "ename": "TypeError",
     "evalue": "unhashable type: 'set'",
     "output_type": "error",
     "traceback": [
      "\u001b[0;31m---------------------------------------------------------------------------\u001b[0m",
      "\u001b[0;31mTypeError\u001b[0m                                 Traceback (most recent call last)",
      "Cell \u001b[0;32mIn[225], line 1\u001b[0m\n\u001b[0;32m----> 1\u001b[0m d[{\u001b[38;5;241m3\u001b[39m ,\u001b[38;5;241m4\u001b[39m}] \u001b[38;5;241m=\u001b[39m {\u001b[38;5;241m3\u001b[39m, \u001b[38;5;241m6\u001b[39m}\n",
      "\u001b[0;31mTypeError\u001b[0m: unhashable type: 'set'"
     ]
    }
   ],
   "source": [
    "d[{3 ,4}] = {3, 6}"
   ]
  },
  {
   "cell_type": "code",
   "execution_count": 227,
   "id": "058e266f-61b5-4749-ab0a-723b285813b6",
   "metadata": {},
   "outputs": [],
   "source": [
    "# keys are unique but value can be duplicated"
   ]
  },
  {
   "cell_type": "code",
   "execution_count": 231,
   "id": "19cdae67-ba96-440d-a830-3a5d10edeabd",
   "metadata": {},
   "outputs": [],
   "source": [
    "i = [(1, 2), (2, 4)]"
   ]
  },
  {
   "cell_type": "code",
   "execution_count": 233,
   "id": "0b40929b-d04b-4633-85b4-14bece6de128",
   "metadata": {},
   "outputs": [
    {
     "data": {
      "text/plain": [
       "{1: 2, 2: 4}"
      ]
     },
     "execution_count": 233,
     "metadata": {},
     "output_type": "execute_result"
    }
   ],
   "source": [
    "dict(i)"
   ]
  },
  {
   "cell_type": "code",
   "execution_count": 235,
   "id": "9e273fe0-9485-4264-8f97-6377117b4225",
   "metadata": {},
   "outputs": [
    {
     "data": {
      "text/plain": [
       "{1: 'Pranav',\n",
       " 2: 'Geeta',\n",
       " 3: 'Natasha',\n",
       " 5: 'Dheeraj',\n",
       " 'Ray': 56,\n",
       " (2, 3): 'ok',\n",
       " 10: (4, 6)}"
      ]
     },
     "execution_count": 235,
     "metadata": {},
     "output_type": "execute_result"
    }
   ],
   "source": [
    "d"
   ]
  },
  {
   "cell_type": "code",
   "execution_count": 237,
   "id": "0500d25d-c088-4da8-aeff-17d4f9da7de0",
   "metadata": {},
   "outputs": [
    {
     "data": {
      "text/plain": [
       "dict_keys([1, 2, 3, 5, 'Ray', (2, 3), 10])"
      ]
     },
     "execution_count": 237,
     "metadata": {},
     "output_type": "execute_result"
    }
   ],
   "source": [
    "d.keys()"
   ]
  },
  {
   "cell_type": "code",
   "execution_count": 239,
   "id": "75a3da14-29f1-468b-a135-08d9de4a8007",
   "metadata": {},
   "outputs": [
    {
     "data": {
      "text/plain": [
       "dict_values(['Pranav', 'Geeta', 'Natasha', 'Dheeraj', 56, 'ok', (4, 6)])"
      ]
     },
     "execution_count": 239,
     "metadata": {},
     "output_type": "execute_result"
    }
   ],
   "source": [
    "d.values()"
   ]
  },
  {
   "cell_type": "code",
   "execution_count": 241,
   "id": "b271bff9-4a3d-44f7-b0b8-a33fd720dbb7",
   "metadata": {},
   "outputs": [
    {
     "data": {
      "text/plain": [
       "dict_items([(1, 'Pranav'), (2, 'Geeta'), (3, 'Natasha'), (5, 'Dheeraj'), ('Ray', 56), ((2, 3), 'ok'), (10, (4, 6))])"
      ]
     },
     "execution_count": 241,
     "metadata": {},
     "output_type": "execute_result"
    }
   ],
   "source": [
    "d.items()"
   ]
  },
  {
   "cell_type": "code",
   "execution_count": 243,
   "id": "6b5991f5-7232-4bb5-a6cb-4ff7b8579e18",
   "metadata": {},
   "outputs": [
    {
     "data": {
      "text/plain": [
       "{1: 'Pranav',\n",
       " 2: 'Geeta',\n",
       " 3: 'Natasha',\n",
       " 5: 'Dheeraj',\n",
       " 'Ray': 56,\n",
       " (2, 3): 'ok',\n",
       " 10: (4, 6)}"
      ]
     },
     "execution_count": 243,
     "metadata": {},
     "output_type": "execute_result"
    }
   ],
   "source": [
    "d"
   ]
  },
  {
   "cell_type": "code",
   "execution_count": 245,
   "id": "bea0ed93-79e3-4dab-9735-c392429bb50e",
   "metadata": {},
   "outputs": [],
   "source": [
    "d[1] = d[2]"
   ]
  },
  {
   "cell_type": "code",
   "execution_count": 247,
   "id": "24e3bb1c-e36d-4875-a1e6-00ab4f34aeed",
   "metadata": {},
   "outputs": [
    {
     "data": {
      "text/plain": [
       "{1: 'Geeta',\n",
       " 2: 'Geeta',\n",
       " 3: 'Natasha',\n",
       " 5: 'Dheeraj',\n",
       " 'Ray': 56,\n",
       " (2, 3): 'ok',\n",
       " 10: (4, 6)}"
      ]
     },
     "execution_count": 247,
     "metadata": {},
     "output_type": "execute_result"
    }
   ],
   "source": [
    "d"
   ]
  },
  {
   "cell_type": "code",
   "execution_count": 249,
   "id": "12dce8f7-f34a-4089-bc11-4f5ebf42d94c",
   "metadata": {},
   "outputs": [
    {
     "name": "stdout",
     "output_type": "stream",
     "text": [
      "1 -> Geeta\n",
      "2 -> Geeta\n",
      "3 -> Natasha\n",
      "5 -> Dheeraj\n",
      "Ray -> 56\n",
      "(2, 3) -> ok\n",
      "10 -> (4, 6)\n"
     ]
    }
   ],
   "source": [
    "# iterate over the dict\n",
    "# print =>   key -> value\n",
    "\n",
    "for i in d:\n",
    "    print(i, \"->\", d.get(i))"
   ]
  },
  {
   "cell_type": "code",
   "execution_count": 251,
   "id": "ba77e1ec-4264-4fae-9fae-7e67019b0178",
   "metadata": {},
   "outputs": [
    {
     "name": "stdout",
     "output_type": "stream",
     "text": [
      "1 -> Geeta\n",
      "2 -> Geeta\n",
      "3 -> Natasha\n",
      "5 -> Dheeraj\n",
      "Ray -> 56\n",
      "(2, 3) -> ok\n",
      "10 -> (4, 6)\n"
     ]
    }
   ],
   "source": [
    "for key, val in d.items():\n",
    "    print(f\"{key} -> {val}\")"
   ]
  },
  {
   "cell_type": "code",
   "execution_count": null,
   "id": "d8c0bb35-828a-4037-8d0f-184147f6d887",
   "metadata": {},
   "outputs": [],
   "source": []
  }
 ],
 "metadata": {
  "kernelspec": {
   "display_name": "Python 3 (ipykernel)",
   "language": "python",
   "name": "python3"
  },
  "language_info": {
   "codemirror_mode": {
    "name": "ipython",
    "version": 3
   },
   "file_extension": ".py",
   "mimetype": "text/x-python",
   "name": "python",
   "nbconvert_exporter": "python",
   "pygments_lexer": "ipython3",
   "version": "3.11.9"
  }
 },
 "nbformat": 4,
 "nbformat_minor": 5
}
