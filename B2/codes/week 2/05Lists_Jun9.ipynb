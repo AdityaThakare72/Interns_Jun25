{
 "cells": [
  {
   "cell_type": "code",
   "execution_count": 18,
   "id": "f94601b4-a010-449d-9ff2-bc6aea2ec075",
   "metadata": {},
   "outputs": [],
   "source": [
    "l = [12, 23, 45, 67, 100]"
   ]
  },
  {
   "cell_type": "code",
   "execution_count": 20,
   "id": "424c3fe6-2e8e-46cb-b68a-e7df7f383598",
   "metadata": {},
   "outputs": [
    {
     "data": {
      "text/plain": [
       "[12, 23, 45, 67, 100]"
      ]
     },
     "execution_count": 20,
     "metadata": {},
     "output_type": "execute_result"
    }
   ],
   "source": [
    "l"
   ]
  },
  {
   "cell_type": "code",
   "execution_count": 22,
   "id": "44b04c37-564e-4500-90ea-89ed1ffca3ad",
   "metadata": {},
   "outputs": [
    {
     "data": {
      "text/plain": [
       "list"
      ]
     },
     "execution_count": 22,
     "metadata": {},
     "output_type": "execute_result"
    }
   ],
   "source": [
    "type(l)"
   ]
  },
  {
   "cell_type": "code",
   "execution_count": 24,
   "id": "5670b486-480c-4db3-9c77-274cc6a952f2",
   "metadata": {},
   "outputs": [],
   "source": [
    "# heterogeneous, duplicates are allowed"
   ]
  },
  {
   "cell_type": "code",
   "execution_count": 30,
   "id": "45e5d995-1cc6-4695-a10b-02ef99224227",
   "metadata": {},
   "outputs": [],
   "source": [
    "l1 = [12, 34, True, \"Pune\", 44.23, 12]"
   ]
  },
  {
   "cell_type": "code",
   "execution_count": 32,
   "id": "a2e36383-3efc-4690-b1a8-5e342a84424e",
   "metadata": {},
   "outputs": [
    {
     "data": {
      "text/plain": [
       "[12, 34, True, 'Pune', 44.23, 12]"
      ]
     },
     "execution_count": 32,
     "metadata": {},
     "output_type": "execute_result"
    }
   ],
   "source": [
    "l1"
   ]
  },
  {
   "cell_type": "code",
   "execution_count": 34,
   "id": "47a6b2f0-9076-4763-a84b-8bd6673a85f6",
   "metadata": {},
   "outputs": [],
   "source": [
    "# ordered"
   ]
  },
  {
   "cell_type": "code",
   "execution_count": 36,
   "id": "fddc8bb4-4db8-444a-85b1-7cce3e90bdfd",
   "metadata": {},
   "outputs": [
    {
     "data": {
      "text/plain": [
       "34"
      ]
     },
     "execution_count": 36,
     "metadata": {},
     "output_type": "execute_result"
    }
   ],
   "source": [
    "l1[1]"
   ]
  },
  {
   "cell_type": "code",
   "execution_count": 38,
   "id": "a2e0a125-6414-4b1b-995c-a32c372b3804",
   "metadata": {},
   "outputs": [
    {
     "data": {
      "text/plain": [
       "44.23"
      ]
     },
     "execution_count": 38,
     "metadata": {},
     "output_type": "execute_result"
    }
   ],
   "source": [
    "l1[-2]"
   ]
  },
  {
   "cell_type": "code",
   "execution_count": 40,
   "id": "95d25f92-9f3f-4d31-9746-cdda31938384",
   "metadata": {},
   "outputs": [],
   "source": [
    "# mutable"
   ]
  },
  {
   "cell_type": "code",
   "execution_count": 42,
   "id": "34b42ad2-039b-4633-a443-d24c5dea03e4",
   "metadata": {},
   "outputs": [
    {
     "data": {
      "text/plain": [
       "[12, 34, True, 'Pune', 44.23, 12]"
      ]
     },
     "execution_count": 42,
     "metadata": {},
     "output_type": "execute_result"
    }
   ],
   "source": [
    "l1"
   ]
  },
  {
   "cell_type": "code",
   "execution_count": 44,
   "id": "09e47866-a83c-4af8-af76-a353c664b6e7",
   "metadata": {},
   "outputs": [],
   "source": [
    "l1[2] = False"
   ]
  },
  {
   "cell_type": "code",
   "execution_count": 46,
   "id": "2d8126ac-6b92-454f-a457-b00ee9af420e",
   "metadata": {},
   "outputs": [
    {
     "data": {
      "text/plain": [
       "[12, 34, False, 'Pune', 44.23, 12]"
      ]
     },
     "execution_count": 46,
     "metadata": {},
     "output_type": "execute_result"
    }
   ],
   "source": [
    "l1"
   ]
  },
  {
   "cell_type": "code",
   "execution_count": 48,
   "id": "86854b57-d577-4a7e-8d88-9d698ba9f834",
   "metadata": {},
   "outputs": [
    {
     "data": {
      "text/plain": [
       "[12, 34, False, 'ok', 44.23, 12]"
      ]
     },
     "execution_count": 48,
     "metadata": {},
     "output_type": "execute_result"
    }
   ],
   "source": [
    "l1[-3] = \"ok\"\n",
    "l1"
   ]
  },
  {
   "cell_type": "code",
   "execution_count": 50,
   "id": "bc4b85ba-dc34-43ac-9e32-dea7c1134fcf",
   "metadata": {},
   "outputs": [],
   "source": [
    "# list slicing"
   ]
  },
  {
   "cell_type": "code",
   "execution_count": 52,
   "id": "1d9d6041-f5d5-4995-a470-390de123f1fa",
   "metadata": {},
   "outputs": [
    {
     "data": {
      "text/plain": [
       "[12, 23, 45, 67, 100]"
      ]
     },
     "execution_count": 52,
     "metadata": {},
     "output_type": "execute_result"
    }
   ],
   "source": [
    "l"
   ]
  },
  {
   "cell_type": "code",
   "execution_count": 54,
   "id": "2cb10454-ae6f-4a28-ac51-706355b4ed8f",
   "metadata": {},
   "outputs": [
    {
     "data": {
      "text/plain": [
       "[23, 45, 67]"
      ]
     },
     "execution_count": 54,
     "metadata": {},
     "output_type": "execute_result"
    }
   ],
   "source": [
    "l[1:4]"
   ]
  },
  {
   "cell_type": "code",
   "execution_count": 56,
   "id": "5ed5e8e4-a622-4644-9894-bac516c52b4a",
   "metadata": {},
   "outputs": [
    {
     "data": {
      "text/plain": [
       "[45, 67, 100]"
      ]
     },
     "execution_count": 56,
     "metadata": {},
     "output_type": "execute_result"
    }
   ],
   "source": [
    "l[2:5]"
   ]
  },
  {
   "cell_type": "code",
   "execution_count": 58,
   "id": "0bca9e89-5dbe-45ca-b657-5ef01f39d632",
   "metadata": {},
   "outputs": [
    {
     "data": {
      "text/plain": [
       "[45, 67, 100]"
      ]
     },
     "execution_count": 58,
     "metadata": {},
     "output_type": "execute_result"
    }
   ],
   "source": [
    "l[2:10]"
   ]
  },
  {
   "cell_type": "code",
   "execution_count": 62,
   "id": "a24ab9ea-27af-49b9-aba5-be137572915e",
   "metadata": {},
   "outputs": [
    {
     "data": {
      "text/plain": [
       "[12, 23, 45, 67, 100]"
      ]
     },
     "execution_count": 62,
     "metadata": {},
     "output_type": "execute_result"
    }
   ],
   "source": [
    "l"
   ]
  },
  {
   "cell_type": "code",
   "execution_count": 60,
   "id": "6ae016c1-f0c4-4af7-acc1-91f029f6f13d",
   "metadata": {},
   "outputs": [
    {
     "data": {
      "text/plain": [
       "[45, 67, 100]"
      ]
     },
     "execution_count": 60,
     "metadata": {},
     "output_type": "execute_result"
    }
   ],
   "source": [
    "l[2:]"
   ]
  },
  {
   "cell_type": "code",
   "execution_count": 64,
   "id": "bcf40446-ff4a-4028-9965-d2487788497e",
   "metadata": {},
   "outputs": [
    {
     "data": {
      "text/plain": [
       "[12, 23, 45, 67, 100]"
      ]
     },
     "execution_count": 64,
     "metadata": {},
     "output_type": "execute_result"
    }
   ],
   "source": [
    "l[:]"
   ]
  },
  {
   "cell_type": "code",
   "execution_count": 66,
   "id": "05047dd9-cffe-465a-a9e0-1567a4393337",
   "metadata": {},
   "outputs": [
    {
     "data": {
      "text/plain": [
       "[12, 45, 100]"
      ]
     },
     "execution_count": 66,
     "metadata": {},
     "output_type": "execute_result"
    }
   ],
   "source": [
    "l[::2]"
   ]
  },
  {
   "cell_type": "code",
   "execution_count": 68,
   "id": "17638e4b-2d5d-4ad2-bd4a-4fe4931eaa8d",
   "metadata": {},
   "outputs": [
    {
     "data": {
      "text/plain": [
       "[100, 67, 45, 23, 12]"
      ]
     },
     "execution_count": 68,
     "metadata": {},
     "output_type": "execute_result"
    }
   ],
   "source": [
    "l[::-1]"
   ]
  },
  {
   "cell_type": "code",
   "execution_count": 70,
   "id": "e15a8e34-cedf-4e2f-a046-9fac5ac22f35",
   "metadata": {},
   "outputs": [
    {
     "data": {
      "text/plain": [
       "45"
      ]
     },
     "execution_count": 70,
     "metadata": {},
     "output_type": "execute_result"
    }
   ],
   "source": [
    "x = l[2]\n",
    "x"
   ]
  },
  {
   "cell_type": "code",
   "execution_count": 72,
   "id": "cac93ab8-9252-44c4-a9af-b39426cdc743",
   "metadata": {},
   "outputs": [],
   "source": [
    "# list decomposition"
   ]
  },
  {
   "cell_type": "code",
   "execution_count": 74,
   "id": "ed3796f9-28e2-4cf4-ac06-58ed4ca104fb",
   "metadata": {},
   "outputs": [],
   "source": [
    "x, y, z = l[1:4]"
   ]
  },
  {
   "cell_type": "code",
   "execution_count": 76,
   "id": "a83cc998-6715-4e32-8785-29939c8f0bad",
   "metadata": {},
   "outputs": [
    {
     "data": {
      "text/plain": [
       "23"
      ]
     },
     "execution_count": 76,
     "metadata": {},
     "output_type": "execute_result"
    }
   ],
   "source": [
    "x"
   ]
  },
  {
   "cell_type": "code",
   "execution_count": 78,
   "id": "4c4f42ef-8f5a-4aac-a7ca-7204933b554a",
   "metadata": {},
   "outputs": [
    {
     "data": {
      "text/plain": [
       "45"
      ]
     },
     "execution_count": 78,
     "metadata": {},
     "output_type": "execute_result"
    }
   ],
   "source": [
    "y"
   ]
  },
  {
   "cell_type": "code",
   "execution_count": 80,
   "id": "0fccd0eb-eded-490b-bc55-c83e52f8b5fe",
   "metadata": {},
   "outputs": [
    {
     "data": {
      "text/plain": [
       "67"
      ]
     },
     "execution_count": 80,
     "metadata": {},
     "output_type": "execute_result"
    }
   ],
   "source": [
    "z"
   ]
  },
  {
   "cell_type": "code",
   "execution_count": 82,
   "id": "f378b854-7689-410a-98e9-72d3b8ac2435",
   "metadata": {},
   "outputs": [
    {
     "data": {
      "text/plain": [
       "[12, 23, 45, 67, 100]"
      ]
     },
     "execution_count": 82,
     "metadata": {},
     "output_type": "execute_result"
    }
   ],
   "source": [
    "l"
   ]
  },
  {
   "cell_type": "code",
   "execution_count": 84,
   "id": "a3f57221-fc10-4b14-a073-051a335f59bb",
   "metadata": {},
   "outputs": [
    {
     "data": {
      "text/plain": [
       "[12, 10, 11, 12, 100]"
      ]
     },
     "execution_count": 84,
     "metadata": {},
     "output_type": "execute_result"
    }
   ],
   "source": [
    "l[1:4] = [10, 11, 12]\n",
    "l"
   ]
  },
  {
   "cell_type": "code",
   "execution_count": 86,
   "id": "9d885f87-6df1-4d46-b188-386036e25538",
   "metadata": {},
   "outputs": [],
   "source": [
    "del l[2]"
   ]
  },
  {
   "cell_type": "code",
   "execution_count": 88,
   "id": "9dcb9bf8-0e03-477c-ac33-6c7c436547e0",
   "metadata": {},
   "outputs": [
    {
     "data": {
      "text/plain": [
       "[12, 10, 12, 100]"
      ]
     },
     "execution_count": 88,
     "metadata": {},
     "output_type": "execute_result"
    }
   ],
   "source": [
    "l"
   ]
  },
  {
   "cell_type": "code",
   "execution_count": 90,
   "id": "9665bf17-1250-48f4-a04d-8378016a4297",
   "metadata": {},
   "outputs": [],
   "source": [
    "del l"
   ]
  },
  {
   "cell_type": "code",
   "execution_count": 92,
   "id": "85ee01a9-94c3-4ed3-9fd9-b8bc09a9a025",
   "metadata": {},
   "outputs": [
    {
     "ename": "NameError",
     "evalue": "name 'l' is not defined",
     "output_type": "error",
     "traceback": [
      "\u001b[0;31m---------------------------------------------------------------------------\u001b[0m",
      "\u001b[0;31mNameError\u001b[0m                                 Traceback (most recent call last)",
      "Cell \u001b[0;32mIn[92], line 1\u001b[0m\n\u001b[0;32m----> 1\u001b[0m l\n",
      "\u001b[0;31mNameError\u001b[0m: name 'l' is not defined"
     ]
    }
   ],
   "source": [
    "l"
   ]
  },
  {
   "cell_type": "code",
   "execution_count": 94,
   "id": "2b75ad03-72b7-4b56-b8c3-c790bf3b8c07",
   "metadata": {},
   "outputs": [],
   "source": [
    "# in"
   ]
  },
  {
   "cell_type": "code",
   "execution_count": 96,
   "id": "92a3375f-36a9-4faa-b25c-0e5708041321",
   "metadata": {},
   "outputs": [],
   "source": [
    "l = [12, 34, 5, 89, 10]"
   ]
  },
  {
   "cell_type": "code",
   "execution_count": 98,
   "id": "40e30ac3-dff4-4533-8d23-a0a29676ffff",
   "metadata": {},
   "outputs": [
    {
     "data": {
      "text/plain": [
       "False"
      ]
     },
     "execution_count": 98,
     "metadata": {},
     "output_type": "execute_result"
    }
   ],
   "source": [
    "100 in l"
   ]
  },
  {
   "cell_type": "code",
   "execution_count": 100,
   "id": "f05c55ae-46f3-46ff-866a-10e52a3a0544",
   "metadata": {},
   "outputs": [
    {
     "data": {
      "text/plain": [
       "True"
      ]
     },
     "execution_count": 100,
     "metadata": {},
     "output_type": "execute_result"
    }
   ],
   "source": [
    "12 in l"
   ]
  },
  {
   "cell_type": "code",
   "execution_count": 102,
   "id": "284c1c0b-b304-446e-a6b0-09d9399fe005",
   "metadata": {},
   "outputs": [],
   "source": [
    "# arithmetic operators"
   ]
  },
  {
   "cell_type": "code",
   "execution_count": 104,
   "id": "e2f3f71d-8300-4509-b1b5-f43ef8007f03",
   "metadata": {},
   "outputs": [
    {
     "data": {
      "text/plain": [
       "[12, 34, 5, 89, 10]"
      ]
     },
     "execution_count": 104,
     "metadata": {},
     "output_type": "execute_result"
    }
   ],
   "source": [
    "l"
   ]
  },
  {
   "cell_type": "code",
   "execution_count": 106,
   "id": "6cf01ff3-f389-47f1-b609-b54963c42f5b",
   "metadata": {},
   "outputs": [
    {
     "data": {
      "text/plain": [
       "[12, 34, 5, 89, 10, 12, 34, 5, 89, 10]"
      ]
     },
     "execution_count": 106,
     "metadata": {},
     "output_type": "execute_result"
    }
   ],
   "source": [
    "l * 2"
   ]
  },
  {
   "cell_type": "code",
   "execution_count": 108,
   "id": "9dad4999-febd-47b6-91ef-a100a907506e",
   "metadata": {},
   "outputs": [
    {
     "data": {
      "text/plain": [
       "[12, 34, 5, 89, 10, 12, 10]"
      ]
     },
     "execution_count": 108,
     "metadata": {},
     "output_type": "execute_result"
    }
   ],
   "source": [
    "l + [12, 10]"
   ]
  },
  {
   "cell_type": "code",
   "execution_count": 110,
   "id": "b504c02c-6f08-490a-9723-5a9d48898d57",
   "metadata": {},
   "outputs": [
    {
     "data": {
      "text/plain": [
       "[12, 34, 5, 89, 10, 12, 34, False, 'ok', 44.23, 12]"
      ]
     },
     "execution_count": 110,
     "metadata": {},
     "output_type": "execute_result"
    }
   ],
   "source": [
    "l + l1"
   ]
  },
  {
   "cell_type": "code",
   "execution_count": 112,
   "id": "e7c74775-b9c8-4f84-85d5-3811664f1aa8",
   "metadata": {},
   "outputs": [],
   "source": [
    "# iterating over a list"
   ]
  },
  {
   "cell_type": "code",
   "execution_count": 114,
   "id": "4806ff7e-2426-4ca9-8eff-0826036194e2",
   "metadata": {},
   "outputs": [
    {
     "data": {
      "text/plain": [
       "[12, 34, 5, 89, 10]"
      ]
     },
     "execution_count": 114,
     "metadata": {},
     "output_type": "execute_result"
    }
   ],
   "source": [
    "l"
   ]
  },
  {
   "cell_type": "code",
   "execution_count": 118,
   "id": "e3e5c4e9-2031-4869-b112-bb493af62645",
   "metadata": {},
   "outputs": [
    {
     "name": "stdout",
     "output_type": "stream",
     "text": [
      "144 1156 25 7921 100 "
     ]
    }
   ],
   "source": [
    "for i in l:\n",
    "    print(i ** 2, end = ' ')"
   ]
  },
  {
   "cell_type": "code",
   "execution_count": 120,
   "id": "e955138b-bfa3-444b-9081-bd0ed27b8b9d",
   "metadata": {},
   "outputs": [],
   "source": [
    "# print only odd numbers"
   ]
  },
  {
   "cell_type": "code",
   "execution_count": 122,
   "id": "575d187e-f85c-4b97-a6f7-10f69805826e",
   "metadata": {},
   "outputs": [
    {
     "name": "stdout",
     "output_type": "stream",
     "text": [
      "5\n",
      "89\n"
     ]
    }
   ],
   "source": [
    "for i in l:\n",
    "    if i % 2 != 0:\n",
    "        print(i)"
   ]
  },
  {
   "cell_type": "code",
   "execution_count": 124,
   "id": "411c08c4-d36b-4b74-b49e-e45c2773aaf9",
   "metadata": {},
   "outputs": [],
   "source": [
    "# list comprehension"
   ]
  },
  {
   "cell_type": "code",
   "execution_count": 132,
   "id": "bd61b46d-db88-4fa7-b562-a1407287e55d",
   "metadata": {},
   "outputs": [],
   "source": [
    "# map\n",
    "newl = [i ** 2 for i in l]"
   ]
  },
  {
   "cell_type": "code",
   "execution_count": 128,
   "id": "690f3bca-6d4b-4365-a4b1-7d84949e2d9b",
   "metadata": {},
   "outputs": [
    {
     "data": {
      "text/plain": [
       "[144, 1156, 25, 7921, 100]"
      ]
     },
     "execution_count": 128,
     "metadata": {},
     "output_type": "execute_result"
    }
   ],
   "source": [
    "newl"
   ]
  },
  {
   "cell_type": "code",
   "execution_count": 130,
   "id": "ff9e3a96-ab7c-4f6e-9214-98c6eeaa5212",
   "metadata": {},
   "outputs": [
    {
     "data": {
      "text/plain": [
       "list"
      ]
     },
     "execution_count": 130,
     "metadata": {},
     "output_type": "execute_result"
    }
   ],
   "source": [
    "type(newl)"
   ]
  },
  {
   "cell_type": "code",
   "execution_count": 134,
   "id": "2796622a-ce19-4414-bb56-3c96569ec924",
   "metadata": {},
   "outputs": [],
   "source": [
    "# filter\n",
    "\n",
    "new = [i for i in l if i % 2 != 0]"
   ]
  },
  {
   "cell_type": "code",
   "execution_count": 136,
   "id": "22da70c5-2fa6-48e2-a643-f1abd7efaa1c",
   "metadata": {},
   "outputs": [
    {
     "data": {
      "text/plain": [
       "[5, 89]"
      ]
     },
     "execution_count": 136,
     "metadata": {},
     "output_type": "execute_result"
    }
   ],
   "source": [
    "new"
   ]
  },
  {
   "cell_type": "code",
   "execution_count": 138,
   "id": "2c624689-8563-48c9-8f84-120e83ca4a11",
   "metadata": {},
   "outputs": [],
   "source": [
    "names = [\"Ajay\", \"ankit\", \"Amrita\", \"Jay\", \"Siya\", \"ranjit\"]"
   ]
  },
  {
   "cell_type": "code",
   "execution_count": 140,
   "id": "1e0ef8a9-7c29-4ae7-9ab6-7ba1790ff4d5",
   "metadata": {},
   "outputs": [],
   "source": [
    "# use list comprehension and get a list containing names starting with 'a' or 'A'"
   ]
  },
  {
   "cell_type": "code",
   "execution_count": 142,
   "id": "3d53d089-2df7-4257-8823-911bda17149a",
   "metadata": {},
   "outputs": [
    {
     "data": {
      "text/plain": [
       "['Ajay', 'ankit', 'Amrita']"
      ]
     },
     "execution_count": 142,
     "metadata": {},
     "output_type": "execute_result"
    }
   ],
   "source": [
    "newname = [i for i in names if i.lower().startswith(\"a\")]\n",
    "newname"
   ]
  },
  {
   "cell_type": "code",
   "execution_count": 144,
   "id": "f4a68d6f-f3b6-4b16-b6cd-06f1c62292a3",
   "metadata": {},
   "outputs": [],
   "source": [
    "# empty list\n",
    "\n",
    "e = []"
   ]
  },
  {
   "cell_type": "code",
   "execution_count": 146,
   "id": "3b787b72-23bc-46aa-99f5-0c37484fa391",
   "metadata": {},
   "outputs": [
    {
     "data": {
      "text/plain": [
       "[]"
      ]
     },
     "execution_count": 146,
     "metadata": {},
     "output_type": "execute_result"
    }
   ],
   "source": [
    "e"
   ]
  },
  {
   "cell_type": "code",
   "execution_count": 148,
   "id": "1dc55552-3850-462a-8905-f1879108fa0b",
   "metadata": {},
   "outputs": [
    {
     "ename": "IndexError",
     "evalue": "list index out of range",
     "output_type": "error",
     "traceback": [
      "\u001b[0;31m---------------------------------------------------------------------------\u001b[0m",
      "\u001b[0;31mIndexError\u001b[0m                                Traceback (most recent call last)",
      "Cell \u001b[0;32mIn[148], line 1\u001b[0m\n\u001b[0;32m----> 1\u001b[0m e[\u001b[38;5;241m0\u001b[39m]\n",
      "\u001b[0;31mIndexError\u001b[0m: list index out of range"
     ]
    }
   ],
   "source": [
    "e[0]"
   ]
  },
  {
   "cell_type": "code",
   "execution_count": 150,
   "id": "de17f9ab-9bb0-475f-a15a-9581288dc543",
   "metadata": {},
   "outputs": [],
   "source": [
    "# functions"
   ]
  },
  {
   "cell_type": "code",
   "execution_count": 152,
   "id": "c1ff182a-9f49-4c05-a513-c828fe8dd14b",
   "metadata": {},
   "outputs": [
    {
     "data": {
      "text/plain": [
       "[12, 34, 5, 89, 10]"
      ]
     },
     "execution_count": 152,
     "metadata": {},
     "output_type": "execute_result"
    }
   ],
   "source": [
    "l"
   ]
  },
  {
   "cell_type": "code",
   "execution_count": 154,
   "id": "fd8fa6d0-262c-43d7-b952-148668808650",
   "metadata": {},
   "outputs": [
    {
     "data": {
      "text/plain": [
       "150"
      ]
     },
     "execution_count": 154,
     "metadata": {},
     "output_type": "execute_result"
    }
   ],
   "source": [
    "sum(l)"
   ]
  },
  {
   "cell_type": "code",
   "execution_count": 156,
   "id": "90861807-6602-4f27-adbd-17c0ae654d5f",
   "metadata": {},
   "outputs": [
    {
     "data": {
      "text/plain": [
       "5"
      ]
     },
     "execution_count": 156,
     "metadata": {},
     "output_type": "execute_result"
    }
   ],
   "source": [
    "len(l)"
   ]
  },
  {
   "cell_type": "code",
   "execution_count": 158,
   "id": "19668f9e-5480-4cc8-b13f-fb4620d7b957",
   "metadata": {},
   "outputs": [],
   "source": [
    "# methods"
   ]
  },
  {
   "cell_type": "code",
   "execution_count": 162,
   "id": "fea53f46-cade-4c71-8ec8-d20dd3a50365",
   "metadata": {},
   "outputs": [],
   "source": [
    "# adding a value at the end"
   ]
  },
  {
   "cell_type": "code",
   "execution_count": 164,
   "id": "5e356748-da1a-43e7-9627-ecc291bff08e",
   "metadata": {},
   "outputs": [
    {
     "data": {
      "text/plain": [
       "[12, 34, 5, 89, 10]"
      ]
     },
     "execution_count": 164,
     "metadata": {},
     "output_type": "execute_result"
    }
   ],
   "source": [
    "l"
   ]
  },
  {
   "cell_type": "code",
   "execution_count": 166,
   "id": "fb3579e9-3a9f-4d50-b9a8-d2fcf5bb5999",
   "metadata": {},
   "outputs": [],
   "source": [
    "l.append(20)"
   ]
  },
  {
   "cell_type": "code",
   "execution_count": 168,
   "id": "410f221c-fb42-4d86-b74c-5c49d655985d",
   "metadata": {},
   "outputs": [
    {
     "data": {
      "text/plain": [
       "[12, 34, 5, 89, 10, 20]"
      ]
     },
     "execution_count": 168,
     "metadata": {},
     "output_type": "execute_result"
    }
   ],
   "source": [
    "l"
   ]
  },
  {
   "cell_type": "code",
   "execution_count": 170,
   "id": "89071e8a-9554-44c1-96ef-aed0b998ea0b",
   "metadata": {},
   "outputs": [],
   "source": [
    "# append and extend\n",
    "\n",
    "n1 = [1, 2, 3]\n",
    "n2 = [1, 2, 3]"
   ]
  },
  {
   "cell_type": "code",
   "execution_count": 172,
   "id": "6b9a817f-9f8c-4258-978a-06622a6d3793",
   "metadata": {},
   "outputs": [],
   "source": [
    "n1.append([10, 20])\n",
    "n2.extend([10, 20])"
   ]
  },
  {
   "cell_type": "code",
   "execution_count": 174,
   "id": "989df4ab-288d-4070-abb1-dae12c4f7247",
   "metadata": {},
   "outputs": [
    {
     "data": {
      "text/plain": [
       "[1, 2, 3, [10, 20]]"
      ]
     },
     "execution_count": 174,
     "metadata": {},
     "output_type": "execute_result"
    }
   ],
   "source": [
    "n1"
   ]
  },
  {
   "cell_type": "code",
   "execution_count": 176,
   "id": "4e3a7584-bf76-4bc6-abdd-b2ca5f80c926",
   "metadata": {},
   "outputs": [
    {
     "data": {
      "text/plain": [
       "[1, 2, 3, 10, 20]"
      ]
     },
     "execution_count": 176,
     "metadata": {},
     "output_type": "execute_result"
    }
   ],
   "source": [
    "n2"
   ]
  },
  {
   "cell_type": "code",
   "execution_count": 178,
   "id": "74792284-6ab3-45b8-af93-74a6208b3a44",
   "metadata": {},
   "outputs": [
    {
     "data": {
      "text/plain": [
       "[10, 20]"
      ]
     },
     "execution_count": 178,
     "metadata": {},
     "output_type": "execute_result"
    }
   ],
   "source": [
    "n1[3]"
   ]
  },
  {
   "cell_type": "code",
   "execution_count": 180,
   "id": "0577fd66-cc96-432b-bd3b-f5598f52f484",
   "metadata": {},
   "outputs": [
    {
     "data": {
      "text/plain": [
       "20"
      ]
     },
     "execution_count": 180,
     "metadata": {},
     "output_type": "execute_result"
    }
   ],
   "source": [
    "n1[3][1]"
   ]
  },
  {
   "cell_type": "code",
   "execution_count": 182,
   "id": "283fae11-482a-4f3b-aef7-37d4efbec367",
   "metadata": {},
   "outputs": [],
   "source": [
    "# copying/ cloning "
   ]
  },
  {
   "cell_type": "code",
   "execution_count": 184,
   "id": "8a427e11-698c-4868-b669-4ae5858561ac",
   "metadata": {},
   "outputs": [
    {
     "data": {
      "text/plain": [
       "[1, 2, 3, [10, 20]]"
      ]
     },
     "execution_count": 184,
     "metadata": {},
     "output_type": "execute_result"
    }
   ],
   "source": [
    "n1"
   ]
  },
  {
   "cell_type": "code",
   "execution_count": 186,
   "id": "2c0cc2da-87a4-48d1-b6eb-8edae1ec0d9e",
   "metadata": {},
   "outputs": [],
   "source": [
    "c1 = n1"
   ]
  },
  {
   "cell_type": "code",
   "execution_count": 188,
   "id": "6d5b7447-4e26-494e-ae72-77739658bb98",
   "metadata": {},
   "outputs": [
    {
     "data": {
      "text/plain": [
       "[1, 2, 3, [10, 20]]"
      ]
     },
     "execution_count": 188,
     "metadata": {},
     "output_type": "execute_result"
    }
   ],
   "source": [
    "c1"
   ]
  },
  {
   "cell_type": "code",
   "execution_count": 190,
   "id": "62671c6a-6973-4e9d-ab91-2e251b9f5f99",
   "metadata": {},
   "outputs": [
    {
     "data": {
      "text/plain": [
       "[1, 2, 3, [10, 20], 100]"
      ]
     },
     "execution_count": 190,
     "metadata": {},
     "output_type": "execute_result"
    }
   ],
   "source": [
    "n1.append(100)\n",
    "n1"
   ]
  },
  {
   "cell_type": "code",
   "execution_count": 192,
   "id": "7ab0769b-9494-49b9-b3eb-ba2766c8d25f",
   "metadata": {},
   "outputs": [
    {
     "data": {
      "text/plain": [
       "[1, 2, 3, [10, 20], 100]"
      ]
     },
     "execution_count": 192,
     "metadata": {},
     "output_type": "execute_result"
    }
   ],
   "source": [
    "c1"
   ]
  },
  {
   "cell_type": "code",
   "execution_count": 194,
   "id": "d2e6fdcb-25f9-4f7c-a5ce-7fa42eb3d320",
   "metadata": {},
   "outputs": [
    {
     "data": {
      "text/plain": [
       "[1, 2, 3, [10, 20], 100]"
      ]
     },
     "execution_count": 194,
     "metadata": {},
     "output_type": "execute_result"
    }
   ],
   "source": [
    "n1"
   ]
  },
  {
   "cell_type": "code",
   "execution_count": 196,
   "id": "5d0bd21b-4dde-4ae5-9ece-3b4588d08db1",
   "metadata": {},
   "outputs": [],
   "source": [
    "c2 = n1.copy()"
   ]
  },
  {
   "cell_type": "code",
   "execution_count": 200,
   "id": "959b81db-5a4d-45cc-8f4d-e5b8a6b1d6ce",
   "metadata": {},
   "outputs": [
    {
     "data": {
      "text/plain": [
       "[1, 2, 3, [10, 20], 100, 200]"
      ]
     },
     "execution_count": 200,
     "metadata": {},
     "output_type": "execute_result"
    }
   ],
   "source": [
    "n1.append(200)\n",
    "n1"
   ]
  },
  {
   "cell_type": "code",
   "execution_count": 202,
   "id": "9f4cf711-ea2c-44bc-a463-410df4dbc3f1",
   "metadata": {},
   "outputs": [
    {
     "data": {
      "text/plain": [
       "[1, 2, 3, [10, 20], 100]"
      ]
     },
     "execution_count": 202,
     "metadata": {},
     "output_type": "execute_result"
    }
   ],
   "source": [
    "c2"
   ]
  },
  {
   "cell_type": "code",
   "execution_count": 204,
   "id": "12054cb2-547e-472a-aaf1-5019877f5e39",
   "metadata": {},
   "outputs": [],
   "source": [
    "n1[3][0] = 83418"
   ]
  },
  {
   "cell_type": "code",
   "execution_count": 206,
   "id": "a4e164d4-c9b0-42cb-acf6-511c25459916",
   "metadata": {},
   "outputs": [
    {
     "data": {
      "text/plain": [
       "[1, 2, 3, [83418, 20], 100]"
      ]
     },
     "execution_count": 206,
     "metadata": {},
     "output_type": "execute_result"
    }
   ],
   "source": [
    "c2"
   ]
  },
  {
   "cell_type": "code",
   "execution_count": 208,
   "id": "f0188290-f18f-4683-b5f1-3f445fc3c3fa",
   "metadata": {},
   "outputs": [],
   "source": [
    "# insert"
   ]
  },
  {
   "cell_type": "code",
   "execution_count": 210,
   "id": "fa2044d6-f748-46a9-81a6-7fd9f164b58e",
   "metadata": {},
   "outputs": [
    {
     "data": {
      "text/plain": [
       "[12, 34, 5, 89, 10, 20]"
      ]
     },
     "execution_count": 210,
     "metadata": {},
     "output_type": "execute_result"
    }
   ],
   "source": [
    "l"
   ]
  },
  {
   "cell_type": "code",
   "execution_count": 212,
   "id": "e577facb-9069-4031-b724-e2ab4af0ca12",
   "metadata": {},
   "outputs": [],
   "source": [
    "l.insert(2, 100)"
   ]
  },
  {
   "cell_type": "code",
   "execution_count": 214,
   "id": "f056d0e2-d40f-47bd-aa6a-190e462a6324",
   "metadata": {},
   "outputs": [
    {
     "data": {
      "text/plain": [
       "[12, 34, 100, 5, 89, 10, 20]"
      ]
     },
     "execution_count": 214,
     "metadata": {},
     "output_type": "execute_result"
    }
   ],
   "source": [
    "l"
   ]
  },
  {
   "cell_type": "code",
   "execution_count": 216,
   "id": "2f86cc9d-caa7-48e0-b4ae-ac1ac1f75477",
   "metadata": {},
   "outputs": [],
   "source": [
    "l.remove(100)"
   ]
  },
  {
   "cell_type": "code",
   "execution_count": 218,
   "id": "ae2b3336-fc03-40de-9826-45509d03d5b2",
   "metadata": {},
   "outputs": [
    {
     "data": {
      "text/plain": [
       "[12, 34, 5, 89, 10, 20]"
      ]
     },
     "execution_count": 218,
     "metadata": {},
     "output_type": "execute_result"
    }
   ],
   "source": [
    "l"
   ]
  },
  {
   "cell_type": "code",
   "execution_count": 220,
   "id": "7a4663cb-7333-4853-8160-983242c9a414",
   "metadata": {},
   "outputs": [],
   "source": [
    "# delete the last value or specified index val"
   ]
  },
  {
   "cell_type": "code",
   "execution_count": 222,
   "id": "937cd03a-0177-473b-8987-aefdacf35b23",
   "metadata": {},
   "outputs": [
    {
     "data": {
      "text/plain": [
       "20"
      ]
     },
     "execution_count": 222,
     "metadata": {},
     "output_type": "execute_result"
    }
   ],
   "source": [
    "l.pop()"
   ]
  },
  {
   "cell_type": "code",
   "execution_count": 224,
   "id": "bb6dd5f7-e707-40b5-aa9e-c7f5e8f7a911",
   "metadata": {},
   "outputs": [
    {
     "data": {
      "text/plain": [
       "5"
      ]
     },
     "execution_count": 224,
     "metadata": {},
     "output_type": "execute_result"
    }
   ],
   "source": [
    "l.pop(2)"
   ]
  },
  {
   "cell_type": "code",
   "execution_count": 226,
   "id": "b75fbfd4-9f12-4564-a966-ac00bac4eaf0",
   "metadata": {},
   "outputs": [
    {
     "data": {
      "text/plain": [
       "[12, 34, 89, 10]"
      ]
     },
     "execution_count": 226,
     "metadata": {},
     "output_type": "execute_result"
    }
   ],
   "source": [
    "l"
   ]
  },
  {
   "cell_type": "code",
   "execution_count": 228,
   "id": "67a5f88f-9bae-48f2-8648-e71692ea4039",
   "metadata": {},
   "outputs": [
    {
     "data": {
      "text/plain": [
       "1"
      ]
     },
     "execution_count": 228,
     "metadata": {},
     "output_type": "execute_result"
    }
   ],
   "source": [
    "l.index(34)"
   ]
  },
  {
   "cell_type": "code",
   "execution_count": 232,
   "id": "8ba37fd8-c46e-4d6d-94a6-816d5a5b5627",
   "metadata": {},
   "outputs": [
    {
     "data": {
      "text/plain": [
       "[10, 12, 34, 89]"
      ]
     },
     "execution_count": 232,
     "metadata": {},
     "output_type": "execute_result"
    }
   ],
   "source": [
    "l.sort()\n",
    "l"
   ]
  },
  {
   "cell_type": "code",
   "execution_count": 234,
   "id": "105055dd-fe6e-4415-8f12-e6fe2fa9215d",
   "metadata": {},
   "outputs": [
    {
     "data": {
      "text/plain": [
       "[89, 34, 12, 10]"
      ]
     },
     "execution_count": 234,
     "metadata": {},
     "output_type": "execute_result"
    }
   ],
   "source": [
    "l.sort(reverse= True)\n",
    "l"
   ]
  },
  {
   "cell_type": "code",
   "execution_count": 236,
   "id": "8ba14149-1d9d-43a0-9878-232c4d3dfe2e",
   "metadata": {},
   "outputs": [],
   "source": [
    "l = [12, 34, 56, 21, 34, 78, 90]"
   ]
  },
  {
   "cell_type": "code",
   "execution_count": 238,
   "id": "407f5885-249c-4f64-be61-13da76fc4c38",
   "metadata": {},
   "outputs": [],
   "source": [
    "# iterate over the list and print => index -> value\n",
    "# eg... 0 -> 12\n",
    "#       1 -> 34 and so on"
   ]
  },
  {
   "cell_type": "code",
   "execution_count": 242,
   "id": "b1cb604e-a4f9-4865-bc5f-3cf01bff350a",
   "metadata": {},
   "outputs": [
    {
     "name": "stdout",
     "output_type": "stream",
     "text": [
      "0 -> 12\n",
      "1 -> 34\n",
      "2 -> 56\n",
      "3 -> 21\n",
      "1 -> 34\n",
      "5 -> 78\n",
      "6 -> 90\n"
     ]
    }
   ],
   "source": [
    "for i in l:\n",
    " print(l.index(i),\"->\",i)"
   ]
  },
  {
   "cell_type": "code",
   "execution_count": 250,
   "id": "45a69425-453f-4ede-857d-9e11d761795d",
   "metadata": {},
   "outputs": [
    {
     "data": {
      "text/plain": [
       "[(0, 12), (1, 34), (2, 56), (3, 21), (4, 34), (5, 78), (6, 90)]"
      ]
     },
     "execution_count": 250,
     "metadata": {},
     "output_type": "execute_result"
    }
   ],
   "source": [
    "list(enumerate(l,start = 0))"
   ]
  },
  {
   "cell_type": "code",
   "execution_count": 252,
   "id": "26da2e22-a7f7-4e91-b304-7742ecd40eeb",
   "metadata": {},
   "outputs": [
    {
     "name": "stdout",
     "output_type": "stream",
     "text": [
      "0 -> 12\n",
      "1 -> 34\n",
      "2 -> 56\n",
      "3 -> 21\n",
      "4 -> 34\n",
      "5 -> 78\n",
      "6 -> 90\n"
     ]
    }
   ],
   "source": [
    "for ind, val in enumerate(l):\n",
    "    print(f\"{ind} -> {val}\")"
   ]
  },
  {
   "cell_type": "code",
   "execution_count": 254,
   "id": "e8033de4-f85e-4c7e-9701-c65139b3010a",
   "metadata": {},
   "outputs": [
    {
     "data": {
      "text/plain": [
       "[12, 34, 56, 21, 34, 78, 90]"
      ]
     },
     "execution_count": 254,
     "metadata": {},
     "output_type": "execute_result"
    }
   ],
   "source": [
    "l"
   ]
  },
  {
   "cell_type": "code",
   "execution_count": 256,
   "id": "e0361ae9-6012-4a4e-94a6-87013a13dcba",
   "metadata": {},
   "outputs": [],
   "source": [
    "l.clear()"
   ]
  },
  {
   "cell_type": "code",
   "execution_count": 258,
   "id": "7ec64967-1bc5-41fa-b9e4-bf3c0c5d3b80",
   "metadata": {},
   "outputs": [
    {
     "data": {
      "text/plain": [
       "[]"
      ]
     },
     "execution_count": 258,
     "metadata": {},
     "output_type": "execute_result"
    }
   ],
   "source": [
    "l"
   ]
  },
  {
   "cell_type": "code",
   "execution_count": null,
   "id": "e5fa0447-5fd1-4d4c-b96b-61d8e97a09d8",
   "metadata": {},
   "outputs": [],
   "source": []
  }
 ],
 "metadata": {
  "kernelspec": {
   "display_name": "Python 3 (ipykernel)",
   "language": "python",
   "name": "python3"
  },
  "language_info": {
   "codemirror_mode": {
    "name": "ipython",
    "version": 3
   },
   "file_extension": ".py",
   "mimetype": "text/x-python",
   "name": "python",
   "nbconvert_exporter": "python",
   "pygments_lexer": "ipython3",
   "version": "3.11.9"
  }
 },
 "nbformat": 4,
 "nbformat_minor": 5
}
