{
 "cells": [
  {
   "cell_type": "code",
   "execution_count": 2,
   "id": "672b7129-0f66-4b59-9aca-89bf32e61dd8",
   "metadata": {},
   "outputs": [
    {
     "name": "stdin",
     "output_type": "stream",
     "text": [
      "Enter the number:  50\n"
     ]
    },
    {
     "name": "stdout",
     "output_type": "stream",
     "text": [
      "ok\n"
     ]
    }
   ],
   "source": [
    "# check if the number is greater than 40\n",
    "\n",
    "num = int(input(\"Enter the number: \"))\n",
    "\n",
    "if num > 40:\n",
    "    print(\"ok\")"
   ]
  },
  {
   "cell_type": "code",
   "execution_count": 10,
   "id": "9725dab4-214b-4e1f-a9ab-8ee29d5297b0",
   "metadata": {},
   "outputs": [
    {
     "name": "stdin",
     "output_type": "stream",
     "text": [
      "Enter the number:  5\n"
     ]
    },
    {
     "name": "stdout",
     "output_type": "stream",
     "text": [
      "not ok\n",
      "bye!\n"
     ]
    }
   ],
   "source": [
    "num = int(input(\"Enter the number: \"))\n",
    "\n",
    "if num > 40:\n",
    "    print(\"ok\")\n",
    "else:\n",
    "    print(\"not ok\")\n",
    "    print(\"bye!\")"
   ]
  },
  {
   "cell_type": "code",
   "execution_count": 18,
   "id": "1efc38a5-4153-4525-b156-58d8cb62fa6a",
   "metadata": {},
   "outputs": [
    {
     "name": "stdin",
     "output_type": "stream",
     "text": [
      "Enter the number:  0\n"
     ]
    },
    {
     "name": "stdout",
     "output_type": "stream",
     "text": [
      "ZERO\n"
     ]
    }
   ],
   "source": [
    "# check if the number is positive or negative\n",
    "\n",
    "num = int(input(\"Enter the number: \"))\n",
    "\n",
    "if num > 0:      # cumpulsory  \n",
    "    print(\"positive\")\n",
    "elif num == 0:     # optional\n",
    "    print(\"ZERO\")\n",
    "else:         # optional\n",
    "    print(\"neg\")"
   ]
  },
  {
   "cell_type": "code",
   "execution_count": 22,
   "id": "6588a0c5-b11d-4c75-bc9c-47c4511f6bc8",
   "metadata": {},
   "outputs": [
    {
     "name": "stdin",
     "output_type": "stream",
     "text": [
      "Enter the number:  5\n"
     ]
    },
    {
     "name": "stdout",
     "output_type": "stream",
     "text": [
      "ODD\n"
     ]
    }
   ],
   "source": [
    "# check if the number is even or odd\n",
    "\n",
    "num = int(input(\"Enter the number: \"))\n",
    "\n",
    "if num % 2 == 0:\n",
    "    print(\"EVEN\")\n",
    "else:\n",
    "    print(\"ODD\")"
   ]
  },
  {
   "cell_type": "code",
   "execution_count": 33,
   "id": "488cdfe9-0ab6-470d-80e5-8e93d7269f62",
   "metadata": {},
   "outputs": [
    {
     "name": "stdin",
     "output_type": "stream",
     "text": [
      "Enter the number:  8\n"
     ]
    },
    {
     "name": "stdout",
     "output_type": "stream",
     "text": [
      "not correct\n"
     ]
    }
   ],
   "source": [
    "# using nested if check if the number is between 50 and 100\n",
    "\n",
    "num = int(input(\"Enter the number: \"))\n",
    "\n",
    "if num > 50:\n",
    "    if num < 100:\n",
    "        print(\"Correct\")\n",
    "    else:\n",
    "        print(\"greate than 50 but not less than 100\")\n",
    "else:\n",
    "    print(\"not correct\")"
   ]
  },
  {
   "cell_type": "code",
   "execution_count": 39,
   "id": "1265af85-81a3-4284-b68f-1b1309629c51",
   "metadata": {},
   "outputs": [
    {
     "name": "stdin",
     "output_type": "stream",
     "text": [
      "Enter the number:  4\n"
     ]
    },
    {
     "name": "stdout",
     "output_type": "stream",
     "text": [
      "incorrect\n"
     ]
    }
   ],
   "source": [
    "num = int(input(\"Enter the number: \"))\n",
    "\n",
    "if num > 50 and num < 100:\n",
    "    print(\"correct\")\n",
    "else:\n",
    "    print(\"incorrect\")"
   ]
  },
  {
   "cell_type": "code",
   "execution_count": 41,
   "id": "30ba9997-3e27-45ff-8110-90416b40157d",
   "metadata": {},
   "outputs": [
    {
     "name": "stdin",
     "output_type": "stream",
     "text": [
      "Enter the purchase cost  1000\n",
      "Enter the selling cost  1200\n"
     ]
    },
    {
     "name": "stdout",
     "output_type": "stream",
     "text": [
      "profit of => 200\n"
     ]
    }
   ],
   "source": [
    "# read selling and purchase cost\n",
    "# check if profit or loss and how much\n",
    "\n",
    "purchase_cost = int(input(\"Enter the purchase cost \"))\n",
    "selling_cost = int(input(\"Enter the selling cost \"))\n",
    "\n",
    "if selling_cost > purchase_cost:\n",
    "    print(f\"profit of => {selling_cost - purchase_cost}\")\n",
    "else:\n",
    "    print(f\"loss of => {purchase_cost - selling_cost}\")"
   ]
  },
  {
   "cell_type": "code",
   "execution_count": 47,
   "id": "05ef304d-8e76-4072-a5c7-dd4daf1c5080",
   "metadata": {},
   "outputs": [
    {
     "name": "stdin",
     "output_type": "stream",
     "text": [
      "Enter the number:  4\n",
      "Enter the number:  5\n",
      "Enter the number:  400\n"
     ]
    },
    {
     "name": "stdout",
     "output_type": "stream",
     "text": [
      "largest is  400\n"
     ]
    }
   ],
   "source": [
    "# take 3 numbers and find largest\n",
    "# use nested if ('and', 'or' not allowed)\n",
    "\n",
    "num1 = int(input(\"Enter the number: \"))\n",
    "num2 = int(input(\"Enter the number: \"))\n",
    "num3 = int(input(\"Enter the number: \"))\n",
    "\n",
    "if num1 > num2:\n",
    "    if num1 > num3:\n",
    "        print(\"largest is \", num1)\n",
    "    else:\n",
    "        print(\"largest is \", num3)\n",
    "else:\n",
    "    if num2 > num3:\n",
    "        print(\"largest is \", num2)\n",
    "    else:\n",
    "        print(\"largest is \", num3)"
   ]
  },
  {
   "cell_type": "code",
   "execution_count": 49,
   "id": "eed4dc1e-2226-4ac1-8d15-5d450d250c20",
   "metadata": {},
   "outputs": [],
   "source": [
    "# 2020 => leap year\n",
    "# 2017 => not leap\n",
    "# 2000 => leap\n",
    "# 1800 => not leap"
   ]
  },
  {
   "cell_type": "code",
   "execution_count": 57,
   "id": "4096ab18-f75b-4b50-a4e5-cdb5ea73aea8",
   "metadata": {},
   "outputs": [
    {
     "name": "stdin",
     "output_type": "stream",
     "text": [
      "Enter the year:  1800\n"
     ]
    },
    {
     "name": "stdout",
     "output_type": "stream",
     "text": [
      "century but not leap\n"
     ]
    }
   ],
   "source": [
    "yr = int(input(\"Enter the year: \"))\n",
    "\n",
    "if yr % 4 == 0:\n",
    "    if yr % 100 == 0:\n",
    "        if yr % 400 == 0:\n",
    "            print(\"leap century year\")\n",
    "        else:\n",
    "            print(\"century but not leap\")\n",
    "    else:\n",
    "        print(\"leap year\")\n",
    "else:\n",
    "    print(\"not leap\")"
   ]
  },
  {
   "cell_type": "code",
   "execution_count": 67,
   "id": "0b02c281-44e1-4036-b8d9-4c5acdcad871",
   "metadata": {},
   "outputs": [
    {
     "name": "stdout",
     "output_type": "stream",
     "text": [
      "Welcome!!!!\n"
     ]
    },
    {
     "name": "stdin",
     "output_type": "stream",
     "text": [
      "Enter the number:  40\n"
     ]
    },
    {
     "name": "stdout",
     "output_type": "stream",
     "text": [
      "MENU=>\n",
      "1. Square\n",
      "2. Cube\n",
      "3. pos or neg\n"
     ]
    },
    {
     "name": "stdin",
     "output_type": "stream",
     "text": [
      "Enter your choice 873216598\n"
     ]
    },
    {
     "name": "stdout",
     "output_type": "stream",
     "text": [
      "oh great homo sapien plz visit the nearest hospital\n"
     ]
    }
   ],
   "source": [
    "print(\"Welcome!!!!\")\n",
    "\n",
    "num = int(input(\"Enter the number: \"))\n",
    "\n",
    "print(\"MENU=>\\n1. Square\\n2. Cube\\n3. pos or neg\")\n",
    "\n",
    "ch = int(input(\"Enter your choice\"))\n",
    "\n",
    "if ch == 1:\n",
    "    print(\"square is\", num ** 2)\n",
    "elif ch == 2:\n",
    "    print(\"cube is\", num ** 3)\n",
    "elif ch == 3:\n",
    "    if num > 0:\n",
    "        print(\"pos\")\n",
    "    else:\n",
    "        print(\"neg\")\n",
    "else:\n",
    "    print(\"oh great homo sapien plz visit the nearest hospital!!!\")"
   ]
  },
  {
   "cell_type": "code",
   "execution_count": null,
   "id": "4cb083c4-5beb-43d3-af40-c6704f33fb6d",
   "metadata": {},
   "outputs": [],
   "source": []
  }
 ],
 "metadata": {
  "kernelspec": {
   "display_name": "Python 3 (ipykernel)",
   "language": "python",
   "name": "python3"
  },
  "language_info": {
   "codemirror_mode": {
    "name": "ipython",
    "version": 3
   },
   "file_extension": ".py",
   "mimetype": "text/x-python",
   "name": "python",
   "nbconvert_exporter": "python",
   "pygments_lexer": "ipython3",
   "version": "3.11.9"
  }
 },
 "nbformat": 4,
 "nbformat_minor": 5
}
