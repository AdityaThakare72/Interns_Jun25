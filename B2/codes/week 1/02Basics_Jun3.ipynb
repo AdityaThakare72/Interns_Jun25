{
 "cells": [
  {
   "cell_type": "markdown",
   "id": "6cafa1bd-54b4-4333-9e11-e2506114270e",
   "metadata": {},
   "source": [
    "# Operators"
   ]
  },
  {
   "cell_type": "code",
   "execution_count": 3,
   "id": "a4a573c9-9163-448f-ab10-5e1e8af61d37",
   "metadata": {},
   "outputs": [],
   "source": [
    "# arithmetic operators"
   ]
  },
  {
   "cell_type": "code",
   "execution_count": 7,
   "id": "91389b30-7d88-4dd5-9969-b1d320822b3d",
   "metadata": {},
   "outputs": [],
   "source": [
    "a = 10\n",
    "b = 6"
   ]
  },
  {
   "cell_type": "code",
   "execution_count": 9,
   "id": "61496de0-5638-43d8-867f-b1c351694822",
   "metadata": {},
   "outputs": [
    {
     "data": {
      "text/plain": [
       "16"
      ]
     },
     "execution_count": 9,
     "metadata": {},
     "output_type": "execute_result"
    }
   ],
   "source": [
    "a + b"
   ]
  },
  {
   "cell_type": "code",
   "execution_count": 11,
   "id": "bee7e677-e70f-4dfb-9d08-f19a4e83ff83",
   "metadata": {},
   "outputs": [
    {
     "data": {
      "text/plain": [
       "4"
      ]
     },
     "execution_count": 11,
     "metadata": {},
     "output_type": "execute_result"
    }
   ],
   "source": [
    "a - b"
   ]
  },
  {
   "cell_type": "code",
   "execution_count": 13,
   "id": "9a6eef29-119f-4919-9f58-f860a5dc0794",
   "metadata": {},
   "outputs": [
    {
     "data": {
      "text/plain": [
       "60"
      ]
     },
     "execution_count": 13,
     "metadata": {},
     "output_type": "execute_result"
    }
   ],
   "source": [
    "a * b"
   ]
  },
  {
   "cell_type": "code",
   "execution_count": 15,
   "id": "8bb7207a-9972-4f6c-b410-093db2e5b63e",
   "metadata": {},
   "outputs": [
    {
     "data": {
      "text/plain": [
       "1.6666666666666667"
      ]
     },
     "execution_count": 15,
     "metadata": {},
     "output_type": "execute_result"
    }
   ],
   "source": [
    "a / b"
   ]
  },
  {
   "cell_type": "code",
   "execution_count": 17,
   "id": "1a1ca48c-3296-413d-9c43-239cc3971a03",
   "metadata": {},
   "outputs": [
    {
     "data": {
      "text/plain": [
       "1"
      ]
     },
     "execution_count": 17,
     "metadata": {},
     "output_type": "execute_result"
    }
   ],
   "source": [
    "a // b"
   ]
  },
  {
   "cell_type": "code",
   "execution_count": 19,
   "id": "b5bd63d2-9434-425f-90fa-af82f54cd3cd",
   "metadata": {},
   "outputs": [
    {
     "data": {
      "text/plain": [
       "1000000"
      ]
     },
     "execution_count": 19,
     "metadata": {},
     "output_type": "execute_result"
    }
   ],
   "source": [
    "a ** b"
   ]
  },
  {
   "cell_type": "code",
   "execution_count": 21,
   "id": "ea00fe88-50e6-4f0f-8594-8d6ec7d7ecbf",
   "metadata": {},
   "outputs": [],
   "source": [
    "# assignment operator"
   ]
  },
  {
   "cell_type": "code",
   "execution_count": 31,
   "id": "8d2d3779-5b27-4232-a33b-0ea67d9c8b4b",
   "metadata": {},
   "outputs": [],
   "source": [
    "a = 10"
   ]
  },
  {
   "cell_type": "code",
   "execution_count": 33,
   "id": "896d2d09-a5c6-4a3d-b30c-d095d23e5b3a",
   "metadata": {},
   "outputs": [
    {
     "data": {
      "text/plain": [
       "10"
      ]
     },
     "execution_count": 33,
     "metadata": {},
     "output_type": "execute_result"
    }
   ],
   "source": [
    "a"
   ]
  },
  {
   "cell_type": "code",
   "execution_count": 35,
   "id": "530481c6-e9e8-426a-b7e1-169dce3b99b9",
   "metadata": {},
   "outputs": [],
   "source": [
    "a = a + 3"
   ]
  },
  {
   "cell_type": "code",
   "execution_count": 37,
   "id": "e266be59-8f83-488a-8ae1-12a8e183f2ed",
   "metadata": {},
   "outputs": [
    {
     "data": {
      "text/plain": [
       "13"
      ]
     },
     "execution_count": 37,
     "metadata": {},
     "output_type": "execute_result"
    }
   ],
   "source": [
    "a"
   ]
  },
  {
   "cell_type": "code",
   "execution_count": 39,
   "id": "fdf3981e-abf9-4722-aaa7-e91446390699",
   "metadata": {},
   "outputs": [],
   "source": [
    "a += 3"
   ]
  },
  {
   "cell_type": "code",
   "execution_count": 41,
   "id": "5352fdf9-5c92-4a31-a0ff-ddc9bbf42efa",
   "metadata": {},
   "outputs": [
    {
     "data": {
      "text/plain": [
       "16"
      ]
     },
     "execution_count": 41,
     "metadata": {},
     "output_type": "execute_result"
    }
   ],
   "source": [
    "a"
   ]
  },
  {
   "cell_type": "code",
   "execution_count": 43,
   "id": "85245755-d028-4b27-b26a-27a49b26bae1",
   "metadata": {},
   "outputs": [],
   "source": [
    "# comparison"
   ]
  },
  {
   "cell_type": "code",
   "execution_count": 45,
   "id": "042908aa-18a1-46f8-992c-26176305cf50",
   "metadata": {},
   "outputs": [],
   "source": [
    "a = 5\n",
    "b = 7"
   ]
  },
  {
   "cell_type": "code",
   "execution_count": 47,
   "id": "0be70c5f-cd38-48b6-add3-d1d62fe3879b",
   "metadata": {},
   "outputs": [
    {
     "data": {
      "text/plain": [
       "False"
      ]
     },
     "execution_count": 47,
     "metadata": {},
     "output_type": "execute_result"
    }
   ],
   "source": [
    "a > b"
   ]
  },
  {
   "cell_type": "code",
   "execution_count": 49,
   "id": "56429204-7e87-4b84-96c0-c3c36d13c59c",
   "metadata": {},
   "outputs": [
    {
     "data": {
      "text/plain": [
       "False"
      ]
     },
     "execution_count": 49,
     "metadata": {},
     "output_type": "execute_result"
    }
   ],
   "source": [
    "a == b"
   ]
  },
  {
   "cell_type": "code",
   "execution_count": 51,
   "id": "40f2f06a-a548-4bd3-adfa-b78508469e31",
   "metadata": {},
   "outputs": [
    {
     "data": {
      "text/plain": [
       "True"
      ]
     },
     "execution_count": 51,
     "metadata": {},
     "output_type": "execute_result"
    }
   ],
   "source": [
    "a != b"
   ]
  },
  {
   "cell_type": "code",
   "execution_count": 53,
   "id": "9f7e749e-e78f-44e8-8725-e26e12f86d3d",
   "metadata": {},
   "outputs": [
    {
     "data": {
      "text/plain": [
       "True"
      ]
     },
     "execution_count": 53,
     "metadata": {},
     "output_type": "execute_result"
    }
   ],
   "source": [
    "a <= b"
   ]
  },
  {
   "cell_type": "code",
   "execution_count": 55,
   "id": "a3475be0-3079-4ac6-8061-6623361a5015",
   "metadata": {},
   "outputs": [],
   "source": [
    "# bitwise"
   ]
  },
  {
   "cell_type": "code",
   "execution_count": 57,
   "id": "1597507c-8f57-4a0c-a9ca-c5d81d5c6567",
   "metadata": {},
   "outputs": [],
   "source": [
    "# &, |, ^, <<, >>"
   ]
  },
  {
   "cell_type": "code",
   "execution_count": 65,
   "id": "76d2624b-35ef-422e-b64c-66328d911ff4",
   "metadata": {},
   "outputs": [],
   "source": [
    "a = 13\n",
    "b = 15"
   ]
  },
  {
   "cell_type": "code",
   "execution_count": 67,
   "id": "d6b489fa-44e0-4599-a4c1-c4846a64de19",
   "metadata": {},
   "outputs": [
    {
     "data": {
      "text/plain": [
       "'0b1101'"
      ]
     },
     "execution_count": 67,
     "metadata": {},
     "output_type": "execute_result"
    }
   ],
   "source": [
    "bin(a)"
   ]
  },
  {
   "cell_type": "code",
   "execution_count": 69,
   "id": "bfd36e9b-1eba-4398-8583-ca5beab8a380",
   "metadata": {},
   "outputs": [
    {
     "data": {
      "text/plain": [
       "'0b1111'"
      ]
     },
     "execution_count": 69,
     "metadata": {},
     "output_type": "execute_result"
    }
   ],
   "source": [
    "bin(b)"
   ]
  },
  {
   "cell_type": "code",
   "execution_count": 71,
   "id": "f3efca3c-d27e-491c-8909-347254a7029a",
   "metadata": {},
   "outputs": [
    {
     "data": {
      "text/plain": [
       "13"
      ]
     },
     "execution_count": 71,
     "metadata": {},
     "output_type": "execute_result"
    }
   ],
   "source": [
    "a & b"
   ]
  },
  {
   "cell_type": "code",
   "execution_count": 73,
   "id": "e44ec261-c54e-4082-8380-590f3d7254c5",
   "metadata": {},
   "outputs": [
    {
     "data": {
      "text/plain": [
       "13"
      ]
     },
     "execution_count": 73,
     "metadata": {},
     "output_type": "execute_result"
    }
   ],
   "source": [
    "int('0b1101', 2)"
   ]
  },
  {
   "cell_type": "code",
   "execution_count": 77,
   "id": "7ade9178-dfff-44e5-a596-72c2fc0a6fc9",
   "metadata": {},
   "outputs": [
    {
     "data": {
      "text/plain": [
       "'0b1111'"
      ]
     },
     "execution_count": 77,
     "metadata": {},
     "output_type": "execute_result"
    }
   ],
   "source": [
    "bin(a | b)"
   ]
  },
  {
   "cell_type": "code",
   "execution_count": 79,
   "id": "bc4e560f-22bf-4770-94f2-4f4873a5ed0d",
   "metadata": {},
   "outputs": [
    {
     "data": {
      "text/plain": [
       "'0b10'"
      ]
     },
     "execution_count": 79,
     "metadata": {},
     "output_type": "execute_result"
    }
   ],
   "source": [
    "bin(a ^ b)"
   ]
  },
  {
   "cell_type": "code",
   "execution_count": 85,
   "id": "dbafff5f-8978-4292-a75e-f88ee2639527",
   "metadata": {},
   "outputs": [
    {
     "data": {
      "text/plain": [
       "'0b1101000'"
      ]
     },
     "execution_count": 85,
     "metadata": {},
     "output_type": "execute_result"
    }
   ],
   "source": [
    "bin(a << 3)"
   ]
  },
  {
   "cell_type": "code",
   "execution_count": 87,
   "id": "7690a0c6-8d05-45ad-bb76-52644c04c2e0",
   "metadata": {},
   "outputs": [],
   "source": [
    "# logical"
   ]
  },
  {
   "cell_type": "code",
   "execution_count": 89,
   "id": "3a073133-7b34-4356-9479-28723f1c8a6f",
   "metadata": {},
   "outputs": [],
   "source": [
    "# and, or, not"
   ]
  },
  {
   "cell_type": "code",
   "execution_count": 93,
   "id": "269edaa0-a240-4354-8667-990aee1746dc",
   "metadata": {},
   "outputs": [],
   "source": [
    "a = True\n",
    "b = False"
   ]
  },
  {
   "cell_type": "code",
   "execution_count": 95,
   "id": "8603ea64-3bee-4f32-bf57-98df6c07114f",
   "metadata": {},
   "outputs": [
    {
     "data": {
      "text/plain": [
       "False"
      ]
     },
     "execution_count": 95,
     "metadata": {},
     "output_type": "execute_result"
    }
   ],
   "source": [
    "a and b"
   ]
  },
  {
   "cell_type": "code",
   "execution_count": 97,
   "id": "dc4ea345-a3b6-4e15-95ed-37cd4577f2d9",
   "metadata": {},
   "outputs": [
    {
     "data": {
      "text/plain": [
       "True"
      ]
     },
     "execution_count": 97,
     "metadata": {},
     "output_type": "execute_result"
    }
   ],
   "source": [
    "a or b"
   ]
  },
  {
   "cell_type": "code",
   "execution_count": 99,
   "id": "a50507e9-b0e6-4f0a-9630-5d5f96d92b93",
   "metadata": {},
   "outputs": [
    {
     "data": {
      "text/plain": [
       "False"
      ]
     },
     "execution_count": 99,
     "metadata": {},
     "output_type": "execute_result"
    }
   ],
   "source": [
    "not a"
   ]
  },
  {
   "cell_type": "code",
   "execution_count": 101,
   "id": "7114ec2a-996e-43c4-9c6f-1f654f2e48f2",
   "metadata": {},
   "outputs": [
    {
     "data": {
      "text/plain": [
       "True"
      ]
     },
     "execution_count": 101,
     "metadata": {},
     "output_type": "execute_result"
    }
   ],
   "source": [
    "not b"
   ]
  },
  {
   "cell_type": "code",
   "execution_count": 103,
   "id": "8bb3ac61-7e05-4f9b-bd32-5f37d78995fd",
   "metadata": {},
   "outputs": [],
   "source": [
    "# membership "
   ]
  },
  {
   "cell_type": "code",
   "execution_count": 105,
   "id": "14c35ab6-8d26-4862-aaec-e9b6f2277bc5",
   "metadata": {},
   "outputs": [],
   "source": [
    "# in, not in"
   ]
  },
  {
   "cell_type": "code",
   "execution_count": 109,
   "id": "86bea096-3ed4-4c97-8351-8bf614241435",
   "metadata": {},
   "outputs": [],
   "source": [
    "l = [10, 200, 20, \"Pune\"]"
   ]
  },
  {
   "cell_type": "code",
   "execution_count": 111,
   "id": "63489541-56c8-46de-9f62-9f8fc80faea9",
   "metadata": {},
   "outputs": [
    {
     "data": {
      "text/plain": [
       "True"
      ]
     },
     "execution_count": 111,
     "metadata": {},
     "output_type": "execute_result"
    }
   ],
   "source": [
    "10 in l"
   ]
  },
  {
   "cell_type": "code",
   "execution_count": 113,
   "id": "885e6a41-e1f7-4fc1-adc1-44dbf7807bb6",
   "metadata": {},
   "outputs": [
    {
     "data": {
      "text/plain": [
       "False"
      ]
     },
     "execution_count": 113,
     "metadata": {},
     "output_type": "execute_result"
    }
   ],
   "source": [
    "123 in l"
   ]
  },
  {
   "cell_type": "code",
   "execution_count": 115,
   "id": "54fe8fae-0033-4b02-b06f-c78700d15d2d",
   "metadata": {},
   "outputs": [
    {
     "data": {
      "text/plain": [
       "False"
      ]
     },
     "execution_count": 115,
     "metadata": {},
     "output_type": "execute_result"
    }
   ],
   "source": [
    "10 not in l"
   ]
  },
  {
   "cell_type": "code",
   "execution_count": 117,
   "id": "3d81d5ee-7f01-4e21-ba5d-73d9a3ac2f2d",
   "metadata": {},
   "outputs": [],
   "source": [
    "# identity operators"
   ]
  },
  {
   "cell_type": "code",
   "execution_count": 119,
   "id": "7ddce962-36b8-4ee9-9d8f-e2912ef2f100",
   "metadata": {},
   "outputs": [],
   "source": [
    "# is, is not"
   ]
  },
  {
   "cell_type": "code",
   "execution_count": 121,
   "id": "74c8b7df-8aaf-4e31-b3d3-8e518e1c3324",
   "metadata": {},
   "outputs": [],
   "source": [
    "a = 5\n",
    "b = 5"
   ]
  },
  {
   "cell_type": "code",
   "execution_count": 129,
   "id": "dc2755bd-b0a1-4b6d-b032-da53b10fed16",
   "metadata": {},
   "outputs": [
    {
     "data": {
      "text/plain": [
       "(8909928, 8909928)"
      ]
     },
     "execution_count": 129,
     "metadata": {},
     "output_type": "execute_result"
    }
   ],
   "source": [
    "id(a), id(b)"
   ]
  },
  {
   "cell_type": "code",
   "execution_count": 123,
   "id": "8a185e50-94ad-4512-b961-e1bb2fd08755",
   "metadata": {},
   "outputs": [
    {
     "data": {
      "text/plain": [
       "True"
      ]
     },
     "execution_count": 123,
     "metadata": {},
     "output_type": "execute_result"
    }
   ],
   "source": [
    "a is b"
   ]
  },
  {
   "cell_type": "code",
   "execution_count": 125,
   "id": "78241ee4-8119-437c-83a3-99fd17e302bf",
   "metadata": {},
   "outputs": [],
   "source": [
    "x = [1, 2]\n",
    "y = [1, 2]"
   ]
  },
  {
   "cell_type": "code",
   "execution_count": 131,
   "id": "4b93d3fb-01b3-4565-b26c-5b12414fedc1",
   "metadata": {},
   "outputs": [
    {
     "data": {
      "text/plain": [
       "(124962939899584, 124962939743168)"
      ]
     },
     "execution_count": 131,
     "metadata": {},
     "output_type": "execute_result"
    }
   ],
   "source": [
    "id(x), id(y)"
   ]
  },
  {
   "cell_type": "code",
   "execution_count": 127,
   "id": "a2be6c7b-b069-4cc4-be0e-48deb427e400",
   "metadata": {},
   "outputs": [
    {
     "data": {
      "text/plain": [
       "False"
      ]
     },
     "execution_count": 127,
     "metadata": {},
     "output_type": "execute_result"
    }
   ],
   "source": [
    "x is y"
   ]
  },
  {
   "cell_type": "code",
   "execution_count": 133,
   "id": "fa04fe51-3b5a-406b-b1aa-68a9ec608a39",
   "metadata": {},
   "outputs": [],
   "source": [
    "z = y"
   ]
  },
  {
   "cell_type": "code",
   "execution_count": 135,
   "id": "3e25ab63-b74d-4cfb-abd0-d18091dcae35",
   "metadata": {},
   "outputs": [
    {
     "data": {
      "text/plain": [
       "[1, 2]"
      ]
     },
     "execution_count": 135,
     "metadata": {},
     "output_type": "execute_result"
    }
   ],
   "source": [
    "z"
   ]
  },
  {
   "cell_type": "code",
   "execution_count": 137,
   "id": "77c1d940-005d-46de-987c-37c003ffd2d9",
   "metadata": {},
   "outputs": [
    {
     "data": {
      "text/plain": [
       "True"
      ]
     },
     "execution_count": 137,
     "metadata": {},
     "output_type": "execute_result"
    }
   ],
   "source": [
    "z is y"
   ]
  },
  {
   "cell_type": "code",
   "execution_count": 139,
   "id": "bef33cd4-a16e-4702-a9a3-ce2119d68cc9",
   "metadata": {},
   "outputs": [
    {
     "data": {
      "text/plain": [
       "[1, 2, 12]"
      ]
     },
     "execution_count": 139,
     "metadata": {},
     "output_type": "execute_result"
    }
   ],
   "source": [
    "y.append(12)\n",
    "y"
   ]
  },
  {
   "cell_type": "code",
   "execution_count": 141,
   "id": "53bf7c22-4c84-4c4c-930b-51f0f045db56",
   "metadata": {},
   "outputs": [
    {
     "data": {
      "text/plain": [
       "[1, 2, 12]"
      ]
     },
     "execution_count": 141,
     "metadata": {},
     "output_type": "execute_result"
    }
   ],
   "source": [
    "z"
   ]
  },
  {
   "cell_type": "code",
   "execution_count": 143,
   "id": "0195f28b-e146-4ea1-8334-2f8beedce8b5",
   "metadata": {},
   "outputs": [],
   "source": [
    "# precedence and association"
   ]
  },
  {
   "cell_type": "code",
   "execution_count": 145,
   "id": "0b322812-f329-417e-a0a0-f239a2b7216f",
   "metadata": {},
   "outputs": [],
   "source": [
    "# BODMAS"
   ]
  },
  {
   "cell_type": "code",
   "execution_count": 147,
   "id": "0d1b9478-0312-474b-9499-0f6a759eee07",
   "metadata": {},
   "outputs": [
    {
     "data": {
      "text/plain": [
       "6"
      ]
     },
     "execution_count": 147,
     "metadata": {},
     "output_type": "execute_result"
    }
   ],
   "source": [
    "3 - 2 + 5"
   ]
  },
  {
   "cell_type": "code",
   "execution_count": 149,
   "id": "338392fa-23bc-4037-bc70-3251a219c641",
   "metadata": {},
   "outputs": [
    {
     "data": {
      "text/plain": [
       "4"
      ]
     },
     "execution_count": 149,
     "metadata": {},
     "output_type": "execute_result"
    }
   ],
   "source": [
    "5 + 2 - 3"
   ]
  },
  {
   "cell_type": "code",
   "execution_count": 151,
   "id": "efb9b0e5-ff64-44e3-95ed-8ca68ab2c812",
   "metadata": {},
   "outputs": [
    {
     "data": {
      "text/plain": [
       "15"
      ]
     },
     "execution_count": 151,
     "metadata": {},
     "output_type": "execute_result"
    }
   ],
   "source": [
    "5 * 2 + 5"
   ]
  },
  {
   "cell_type": "code",
   "execution_count": 153,
   "id": "181b8506-b0c6-4d70-9d71-b6e4a0cee6f9",
   "metadata": {},
   "outputs": [
    {
     "data": {
      "text/plain": [
       "14"
      ]
     },
     "execution_count": 153,
     "metadata": {},
     "output_type": "execute_result"
    }
   ],
   "source": [
    "5 + 2 ** 2 + 5"
   ]
  },
  {
   "cell_type": "code",
   "execution_count": 155,
   "id": "34bb06b0-77a3-44de-8d46-a320cb089ca0",
   "metadata": {},
   "outputs": [
    {
     "data": {
      "text/plain": [
       "1"
      ]
     },
     "execution_count": 155,
     "metadata": {},
     "output_type": "execute_result"
    }
   ],
   "source": [
    "(5**0) ** 100"
   ]
  },
  {
   "cell_type": "code",
   "execution_count": 157,
   "id": "ca884d4f-9e3e-4a11-98df-12c4fee368e9",
   "metadata": {},
   "outputs": [
    {
     "data": {
      "text/plain": [
       "256"
      ]
     },
     "execution_count": 157,
     "metadata": {},
     "output_type": "execute_result"
    }
   ],
   "source": [
    "2 ** 2 ** 3"
   ]
  },
  {
   "cell_type": "code",
   "execution_count": 159,
   "id": "20f36dca-e2bb-4971-9f99-ce1957125352",
   "metadata": {},
   "outputs": [],
   "source": [
    "# ascii"
   ]
  },
  {
   "cell_type": "code",
   "execution_count": 161,
   "id": "1841f778-7e3a-497c-8ae2-736886f9024a",
   "metadata": {},
   "outputs": [
    {
     "data": {
      "text/plain": [
       "122"
      ]
     },
     "execution_count": 161,
     "metadata": {},
     "output_type": "execute_result"
    }
   ],
   "source": [
    "ord(\"z\")"
   ]
  },
  {
   "cell_type": "code",
   "execution_count": 163,
   "id": "fb5e6298-5216-4f74-9d5b-0e68e5d6b45b",
   "metadata": {},
   "outputs": [
    {
     "data": {
      "text/plain": [
       "64"
      ]
     },
     "execution_count": 163,
     "metadata": {},
     "output_type": "execute_result"
    }
   ],
   "source": [
    "ord('@')"
   ]
  },
  {
   "cell_type": "code",
   "execution_count": 165,
   "id": "b55a4183-a505-4fcc-9bdc-4aa6a7950514",
   "metadata": {},
   "outputs": [
    {
     "data": {
      "text/plain": [
       "'°'"
      ]
     },
     "execution_count": 165,
     "metadata": {},
     "output_type": "execute_result"
    }
   ],
   "source": [
    "chr(176)"
   ]
  },
  {
   "cell_type": "code",
   "execution_count": 167,
   "id": "1a49df1c-4bc5-4d91-be33-27849e25fd35",
   "metadata": {},
   "outputs": [
    {
     "data": {
      "text/plain": [
       "'@'"
      ]
     },
     "execution_count": 167,
     "metadata": {},
     "output_type": "execute_result"
    }
   ],
   "source": [
    "chr(64)"
   ]
  },
  {
   "cell_type": "code",
   "execution_count": 169,
   "id": "15fb7bc8-5be8-4e21-8ae4-7259c32f4865",
   "metadata": {},
   "outputs": [],
   "source": [
    "# print function"
   ]
  },
  {
   "cell_type": "code",
   "execution_count": 171,
   "id": "68657cbe-77cf-4b3c-be4f-89c7d9aef67e",
   "metadata": {},
   "outputs": [],
   "source": [
    "name = \"Natasha\"\n",
    "marks = 71"
   ]
  },
  {
   "cell_type": "code",
   "execution_count": 173,
   "id": "e5fa7168-55ee-4a88-87fb-b755263f3aaf",
   "metadata": {},
   "outputs": [],
   "source": [
    "# my name is Natasha and marks are 71"
   ]
  },
  {
   "cell_type": "code",
   "execution_count": 178,
   "id": "62a60d28-0ce9-4d77-8e8d-4289a60a9ef9",
   "metadata": {},
   "outputs": [
    {
     "name": "stdout",
     "output_type": "stream",
     "text": [
      "my name is Natasha and marks are 71\n"
     ]
    }
   ],
   "source": [
    "print(\"my name is\", name, \"and marks are\", marks)"
   ]
  },
  {
   "cell_type": "code",
   "execution_count": 180,
   "id": "2c2b34c1-4d1e-465c-9486-f9c182117462",
   "metadata": {},
   "outputs": [
    {
     "name": "stdout",
     "output_type": "stream",
     "text": [
      "my name is Natasha and marks are 71\n"
     ]
    }
   ],
   "source": [
    "print(\"my name is %s and marks are %i\" %(name, marks))"
   ]
  },
  {
   "cell_type": "code",
   "execution_count": 184,
   "id": "e00f4891-5938-4727-8f3a-283ae2de9e37",
   "metadata": {},
   "outputs": [
    {
     "name": "stdout",
     "output_type": "stream",
     "text": [
      "my name is Natasha and marks are 71.00\n"
     ]
    }
   ],
   "source": [
    "print(\"my name is %s and marks are %.2f\" %(name, marks))"
   ]
  },
  {
   "cell_type": "code",
   "execution_count": 186,
   "id": "43036a65-4afc-4d70-bfff-f823db87acca",
   "metadata": {},
   "outputs": [
    {
     "name": "stdout",
     "output_type": "stream",
     "text": [
      "my name is Natasha and marks are 71\n"
     ]
    }
   ],
   "source": [
    "print(f\"my name is {name} and marks are {marks}\")"
   ]
  },
  {
   "cell_type": "code",
   "execution_count": 188,
   "id": "8c69e21a-3f04-442d-9e37-e2941e46b6f0",
   "metadata": {},
   "outputs": [],
   "source": [
    "# type casting"
   ]
  },
  {
   "cell_type": "code",
   "execution_count": 190,
   "id": "23587301-ce15-4a37-8626-c692db574827",
   "metadata": {},
   "outputs": [],
   "source": [
    "a = 12\n",
    "b = 34.21\n",
    "c = \"pune\""
   ]
  },
  {
   "cell_type": "code",
   "execution_count": 192,
   "id": "7e3dd2ab-f1a7-47d5-ae72-5eab662706f3",
   "metadata": {},
   "outputs": [
    {
     "data": {
      "text/plain": [
       "12.0"
      ]
     },
     "execution_count": 192,
     "metadata": {},
     "output_type": "execute_result"
    }
   ],
   "source": [
    "float(a)"
   ]
  },
  {
   "cell_type": "code",
   "execution_count": 194,
   "id": "765ac7f6-5487-4c32-9c3a-c09edab8afc5",
   "metadata": {},
   "outputs": [
    {
     "data": {
      "text/plain": [
       "34"
      ]
     },
     "execution_count": 194,
     "metadata": {},
     "output_type": "execute_result"
    }
   ],
   "source": [
    "int(b)"
   ]
  },
  {
   "cell_type": "code",
   "execution_count": 196,
   "id": "cfe1e126-29e9-4e48-a6f5-dd975a4d2d52",
   "metadata": {},
   "outputs": [
    {
     "ename": "ValueError",
     "evalue": "invalid literal for int() with base 10: 'pune'",
     "output_type": "error",
     "traceback": [
      "\u001b[0;31m---------------------------------------------------------------------------\u001b[0m",
      "\u001b[0;31mValueError\u001b[0m                                Traceback (most recent call last)",
      "Cell \u001b[0;32mIn[196], line 1\u001b[0m\n\u001b[0;32m----> 1\u001b[0m \u001b[38;5;28mint\u001b[39m(c)\n",
      "\u001b[0;31mValueError\u001b[0m: invalid literal for int() with base 10: 'pune'"
     ]
    }
   ],
   "source": [
    "int(c)"
   ]
  },
  {
   "cell_type": "code",
   "execution_count": 198,
   "id": "1f8e4598-d9dd-45ac-b31d-c963b7d991d2",
   "metadata": {},
   "outputs": [
    {
     "data": {
      "text/plain": [
       "'12'"
      ]
     },
     "execution_count": 198,
     "metadata": {},
     "output_type": "execute_result"
    }
   ],
   "source": [
    "str(a)"
   ]
  },
  {
   "cell_type": "code",
   "execution_count": 200,
   "id": "2d2845cd-fd73-47ec-b52f-188362339802",
   "metadata": {},
   "outputs": [],
   "source": [
    "z = \"123\""
   ]
  },
  {
   "cell_type": "code",
   "execution_count": 202,
   "id": "46597819-bd7d-4514-9be4-6d4d7f4c5f89",
   "metadata": {},
   "outputs": [
    {
     "data": {
      "text/plain": [
       "123"
      ]
     },
     "execution_count": 202,
     "metadata": {},
     "output_type": "execute_result"
    }
   ],
   "source": [
    "int(z)"
   ]
  },
  {
   "cell_type": "code",
   "execution_count": 204,
   "id": "2a94c97b-b1a3-4edc-bdc4-0215ca824654",
   "metadata": {},
   "outputs": [
    {
     "name": "stdout",
     "output_type": "stream",
     "text": [
      "123\n"
     ]
    }
   ],
   "source": [
    "a = 23\n",
    "b = 100\n",
    "\n",
    "res = a + b\n",
    "print(res)"
   ]
  },
  {
   "cell_type": "code",
   "execution_count": 206,
   "id": "3351c3d3-aa1f-4302-a67d-ece516bdbf65",
   "metadata": {},
   "outputs": [],
   "source": [
    "# user input"
   ]
  },
  {
   "cell_type": "code",
   "execution_count": 216,
   "id": "86a6cddb-92ce-472b-ad86-fea14b5247d9",
   "metadata": {},
   "outputs": [
    {
     "name": "stdin",
     "output_type": "stream",
     "text": [
      "Enter the 1st number:  1\n",
      "Enter the 2nd number:  1\n"
     ]
    },
    {
     "name": "stdout",
     "output_type": "stream",
     "text": [
      "2\n"
     ]
    }
   ],
   "source": [
    "a = int(input(\"Enter the 1st number: \"))\n",
    "b = int(input(\"Enter the 2nd number: \"))\n",
    "\n",
    "res = a + b\n",
    "print(res)"
   ]
  },
  {
   "cell_type": "code",
   "execution_count": 218,
   "id": "9eb0a308-c87d-47ac-afeb-bf396352ae89",
   "metadata": {},
   "outputs": [],
   "source": [
    "\"\"\"\n",
    "take an user input in seconds\n",
    "\n",
    "write a programm to convert it into the format\n",
    "hours:min:sec\n",
    "\n",
    "eg =>   127 sec  ==>   00:02:07\n",
    "\"\"\";"
   ]
  },
  {
   "cell_type": "code",
   "execution_count": null,
   "id": "bc1679aa-b53c-4b11-9b55-61096dde793e",
   "metadata": {},
   "outputs": [],
   "source": [
    "# 3665 => 01:01:05"
   ]
  },
  {
   "cell_type": "code",
   "execution_count": 228,
   "id": "a41df137-6e87-458c-931a-4750319e530e",
   "metadata": {},
   "outputs": [
    {
     "name": "stdin",
     "output_type": "stream",
     "text": [
      "Enter the seconds:  3665\n"
     ]
    },
    {
     "name": "stdout",
     "output_type": "stream",
     "text": [
      "1\n",
      "65\n",
      "1\n",
      "5\n",
      "1:1:5\n"
     ]
    }
   ],
   "source": [
    "sec = int(input(\"Enter the seconds: \"))\n",
    "\n",
    "hour = sec // 3600\n",
    "print(hour)\n",
    "\n",
    "rem1 = sec % 3600\n",
    "print(rem1)\n",
    "\n",
    "min = rem1 // 60\n",
    "print(min)\n",
    "\n",
    "seconds = rem1 % 60\n",
    "print(seconds)\n",
    "\n",
    "print(f\"{hour}:{min}:{seconds}\")"
   ]
  },
  {
   "cell_type": "code",
   "execution_count": null,
   "id": "d4032725-c65c-4c7d-8ef1-3bd416acbb42",
   "metadata": {},
   "outputs": [],
   "source": []
  }
 ],
 "metadata": {
  "kernelspec": {
   "display_name": "Python 3 (ipykernel)",
   "language": "python",
   "name": "python3"
  },
  "language_info": {
   "codemirror_mode": {
    "name": "ipython",
    "version": 3
   },
   "file_extension": ".py",
   "mimetype": "text/x-python",
   "name": "python",
   "nbconvert_exporter": "python",
   "pygments_lexer": "ipython3",
   "version": "3.11.9"
  }
 },
 "nbformat": 4,
 "nbformat_minor": 5
}
