{
 "cells": [
  {
   "cell_type": "code",
   "execution_count": 1,
   "id": "8df99be9-fe74-4e23-811f-558396f704b7",
   "metadata": {},
   "outputs": [],
   "source": [
    "import numpy as np"
   ]
  },
  {
   "cell_type": "code",
   "execution_count": 3,
   "id": "e3e40d7d-7c80-4761-9ef0-8ba379d4e6ff",
   "metadata": {},
   "outputs": [],
   "source": [
    "arr = np.array([12, 45, 67, 23])"
   ]
  },
  {
   "cell_type": "code",
   "execution_count": 5,
   "id": "5c0dab2d-6c89-44aa-9977-db73c0569d19",
   "metadata": {},
   "outputs": [
    {
     "data": {
      "text/plain": [
       "array([12, 45, 67, 23])"
      ]
     },
     "execution_count": 5,
     "metadata": {},
     "output_type": "execute_result"
    }
   ],
   "source": [
    "arr"
   ]
  },
  {
   "cell_type": "code",
   "execution_count": 7,
   "id": "57c63a04-aef2-4b7b-b03f-172b5577120c",
   "metadata": {},
   "outputs": [
    {
     "data": {
      "text/plain": [
       "numpy.ndarray"
      ]
     },
     "execution_count": 7,
     "metadata": {},
     "output_type": "execute_result"
    }
   ],
   "source": [
    "type(arr)"
   ]
  },
  {
   "cell_type": "code",
   "execution_count": 9,
   "id": "52c9966e-3679-40c1-84bf-5e02957091ab",
   "metadata": {},
   "outputs": [
    {
     "data": {
      "text/plain": [
       "array([12, 45, 67, 23])"
      ]
     },
     "execution_count": 9,
     "metadata": {},
     "output_type": "execute_result"
    }
   ],
   "source": [
    "arr"
   ]
  },
  {
   "cell_type": "code",
   "execution_count": 11,
   "id": "36747b93-7e96-4248-ba44-d46de23db03e",
   "metadata": {},
   "outputs": [
    {
     "data": {
      "text/plain": [
       "67"
      ]
     },
     "execution_count": 11,
     "metadata": {},
     "output_type": "execute_result"
    }
   ],
   "source": [
    "arr[2]"
   ]
  },
  {
   "cell_type": "code",
   "execution_count": 13,
   "id": "f92d7967-2676-42e0-90ed-10b05162ddd9",
   "metadata": {},
   "outputs": [],
   "source": [
    "arr[2] = 100"
   ]
  },
  {
   "cell_type": "code",
   "execution_count": 15,
   "id": "55673c61-e3cd-4959-b89d-6436482ce660",
   "metadata": {},
   "outputs": [
    {
     "data": {
      "text/plain": [
       "array([ 12,  45, 100,  23])"
      ]
     },
     "execution_count": 15,
     "metadata": {},
     "output_type": "execute_result"
    }
   ],
   "source": [
    "arr"
   ]
  },
  {
   "cell_type": "code",
   "execution_count": 17,
   "id": "c1067dcb-08ab-41c9-b02a-0506ef54d36d",
   "metadata": {},
   "outputs": [],
   "source": [
    "arr1 = np.array([23, 33.55, True, 'Pune'])"
   ]
  },
  {
   "cell_type": "code",
   "execution_count": 19,
   "id": "02f0edae-c922-44c6-b6c5-d42fc624d098",
   "metadata": {},
   "outputs": [
    {
     "data": {
      "text/plain": [
       "array(['23', '33.55', 'True', 'Pune'], dtype='<U32')"
      ]
     },
     "execution_count": 19,
     "metadata": {},
     "output_type": "execute_result"
    }
   ],
   "source": [
    "arr1"
   ]
  },
  {
   "cell_type": "markdown",
   "id": "c8125cc3-8776-4f70-8ee5-67b542382102",
   "metadata": {},
   "source": [
    "#### which one is faster ?"
   ]
  },
  {
   "cell_type": "code",
   "execution_count": 24,
   "id": "37f9bef7-c7c7-4af5-8482-0e9f4ce32c19",
   "metadata": {},
   "outputs": [],
   "source": [
    "import time"
   ]
  },
  {
   "cell_type": "code",
   "execution_count": 36,
   "id": "8876eeb8-de4a-43ba-bf92-b2e4717e35fa",
   "metadata": {},
   "outputs": [
    {
     "data": {
      "text/plain": [
       "1750672284.1391425"
      ]
     },
     "execution_count": 36,
     "metadata": {},
     "output_type": "execute_result"
    }
   ],
   "source": [
    "time.time()"
   ]
  },
  {
   "cell_type": "code",
   "execution_count": 38,
   "id": "11bdd8bb-56c9-4eb8-ab39-d4ea50b936bf",
   "metadata": {},
   "outputs": [],
   "source": [
    "s = 100000\n",
    "\n",
    "l1 = list(range(s))\n",
    "\n",
    "a1 = np.array(l1)"
   ]
  },
  {
   "cell_type": "code",
   "execution_count": 42,
   "id": "e00f7275-7042-4518-b692-13d72d75fd4a",
   "metadata": {},
   "outputs": [
    {
     "name": "stdout",
     "output_type": "stream",
     "text": [
      "time taken by list: 0.021564722061157227\n"
     ]
    }
   ],
   "source": [
    "start_time = time.time()\n",
    "x = [i * 2 for i in l1]\n",
    "time_l = time.time() - start_time\n",
    "\n",
    "print(\"time taken by list:\", time_l)"
   ]
  },
  {
   "cell_type": "code",
   "execution_count": 44,
   "id": "cf4a475e-e13f-4e07-ac0a-d0da413b711c",
   "metadata": {},
   "outputs": [
    {
     "name": "stdout",
     "output_type": "stream",
     "text": [
      "time taken by list: 0.0012617111206054688\n"
     ]
    }
   ],
   "source": [
    "start_time = time.time()\n",
    "y = a1 * 2\n",
    "time_arr = time.time() - start_time\n",
    "\n",
    "print(\"time taken by list:\", time_arr)"
   ]
  },
  {
   "cell_type": "code",
   "execution_count": 46,
   "id": "538394cd-6032-4fb8-8460-0557a5db1e66",
   "metadata": {},
   "outputs": [
    {
     "data": {
      "text/plain": [
       "17.0916477702192"
      ]
     },
     "execution_count": 46,
     "metadata": {},
     "output_type": "execute_result"
    }
   ],
   "source": [
    "time_l / time_arr"
   ]
  },
  {
   "cell_type": "code",
   "execution_count": 48,
   "id": "ef464873-76d7-4a52-8dc7-4717f514537d",
   "metadata": {},
   "outputs": [
    {
     "data": {
      "text/plain": [
       "array([ 12,  45, 100,  23])"
      ]
     },
     "execution_count": 48,
     "metadata": {},
     "output_type": "execute_result"
    }
   ],
   "source": [
    "arr"
   ]
  },
  {
   "cell_type": "code",
   "execution_count": 50,
   "id": "ad3bc606-13ec-483b-8540-e3315acf4aec",
   "metadata": {},
   "outputs": [
    {
     "data": {
      "text/plain": [
       "1"
      ]
     },
     "execution_count": 50,
     "metadata": {},
     "output_type": "execute_result"
    }
   ],
   "source": [
    "arr.ndim"
   ]
  },
  {
   "cell_type": "code",
   "execution_count": 52,
   "id": "63619235-7de8-4550-a935-895069bee614",
   "metadata": {},
   "outputs": [],
   "source": [
    "# arange"
   ]
  },
  {
   "cell_type": "code",
   "execution_count": 54,
   "id": "c35c7e7c-7f26-43da-b363-f243c4a712a8",
   "metadata": {},
   "outputs": [
    {
     "data": {
      "text/plain": [
       "array([0, 1, 2, 3, 4, 5, 6, 7, 8, 9])"
      ]
     },
     "execution_count": 54,
     "metadata": {},
     "output_type": "execute_result"
    }
   ],
   "source": [
    "np.arange(10)"
   ]
  },
  {
   "cell_type": "code",
   "execution_count": 56,
   "id": "142b758b-74de-479e-a02f-788cb93c4445",
   "metadata": {},
   "outputs": [
    {
     "data": {
      "text/plain": [
       "array([ 3,  4,  5,  6,  7,  8,  9, 10, 11, 12, 13, 14])"
      ]
     },
     "execution_count": 56,
     "metadata": {},
     "output_type": "execute_result"
    }
   ],
   "source": [
    "np.arange(3, 15)"
   ]
  },
  {
   "cell_type": "code",
   "execution_count": 58,
   "id": "9a49c650-e266-409f-a764-4fd8cf16079e",
   "metadata": {},
   "outputs": [
    {
     "data": {
      "text/plain": [
       "array([-5.  , -4.75, -4.5 , -4.25, -4.  , -3.75, -3.5 , -3.25, -3.  ,\n",
       "       -2.75, -2.5 , -2.25, -2.  , -1.75, -1.5 , -1.25, -1.  , -0.75,\n",
       "       -0.5 , -0.25,  0.  ,  0.25,  0.5 ,  0.75,  1.  ,  1.25,  1.5 ,\n",
       "        1.75,  2.  ,  2.25,  2.5 ,  2.75,  3.  ,  3.25,  3.5 ,  3.75,\n",
       "        4.  ,  4.25,  4.5 ,  4.75])"
      ]
     },
     "execution_count": 58,
     "metadata": {},
     "output_type": "execute_result"
    }
   ],
   "source": [
    "np.arange(-5, 5, 0.25)"
   ]
  },
  {
   "cell_type": "code",
   "execution_count": 60,
   "id": "a553c5ec-a1e5-4344-a1a9-0e88b2402829",
   "metadata": {},
   "outputs": [
    {
     "data": {
      "text/plain": [
       "array([0., 0., 0., 0., 0., 0., 0., 0., 0., 0.])"
      ]
     },
     "execution_count": 60,
     "metadata": {},
     "output_type": "execute_result"
    }
   ],
   "source": [
    "np.zeros(10)"
   ]
  },
  {
   "cell_type": "code",
   "execution_count": 62,
   "id": "785a524b-7f89-4a3d-9fa9-9c034c5ed7e3",
   "metadata": {},
   "outputs": [
    {
     "data": {
      "text/plain": [
       "array([1., 1., 1., 1., 1., 1., 1., 1., 1., 1.])"
      ]
     },
     "execution_count": 62,
     "metadata": {},
     "output_type": "execute_result"
    }
   ],
   "source": [
    "np.ones(10)"
   ]
  },
  {
   "cell_type": "code",
   "execution_count": 68,
   "id": "dcf28db7-ccb7-4ad1-9e2c-c2b36bbd0d3c",
   "metadata": {},
   "outputs": [
    {
     "name": "stdin",
     "output_type": "stream",
     "text": [
      "Enter the lucky no 10\n"
     ]
    },
    {
     "name": "stdout",
     "output_type": "stream",
     "text": [
      "lucky no is: 88\n",
      "What a panoti!!!\n"
     ]
    }
   ],
   "source": [
    "num = int(input(\"Enter the lucky no\"))\n",
    "\n",
    "lucky = np.random.randint(0, 100)\n",
    "print(\"lucky no is:\", lucky)\n",
    "if num == lucky:\n",
    "    print(\"Bingo\")\n",
    "else:\n",
    "    print(\"What a panoti!!!\")"
   ]
  },
  {
   "cell_type": "code",
   "execution_count": 72,
   "id": "aa5277ec-ec56-4ac1-885d-d1976c72e21d",
   "metadata": {},
   "outputs": [
    {
     "data": {
      "text/plain": [
       "array([ 12,  45, 100,  23])"
      ]
     },
     "execution_count": 72,
     "metadata": {},
     "output_type": "execute_result"
    }
   ],
   "source": [
    "arr"
   ]
  },
  {
   "cell_type": "code",
   "execution_count": 74,
   "id": "fae2ce56-a0d6-4693-b125-5f970a2de270",
   "metadata": {},
   "outputs": [
    {
     "data": {
      "text/plain": [
       "45.0"
      ]
     },
     "execution_count": 74,
     "metadata": {},
     "output_type": "execute_result"
    }
   ],
   "source": [
    "np.mean(arr)"
   ]
  },
  {
   "cell_type": "code",
   "execution_count": 76,
   "id": "9d91f096-bbac-4470-aa6e-3208b78a2263",
   "metadata": {},
   "outputs": [
    {
     "data": {
      "text/plain": [
       "33.904277016329374"
      ]
     },
     "execution_count": 76,
     "metadata": {},
     "output_type": "execute_result"
    }
   ],
   "source": [
    "np.std(arr)"
   ]
  },
  {
   "cell_type": "code",
   "execution_count": 70,
   "id": "393b0a90-c2ee-4536-8cb3-9d5247c9d1d5",
   "metadata": {},
   "outputs": [],
   "source": [
    "# 2-d arrays"
   ]
  },
  {
   "cell_type": "code",
   "execution_count": 78,
   "id": "8c2b6360-eaee-40a1-91dc-b59407d05cc9",
   "metadata": {},
   "outputs": [],
   "source": [
    "arr1 = np.array([[1, 2, 3], [3, 2, 5], [5, 7, 1], [4, 10, 3]])"
   ]
  },
  {
   "cell_type": "code",
   "execution_count": 80,
   "id": "20eee705-f0fb-4f62-8c0a-eb2360f2f69e",
   "metadata": {},
   "outputs": [
    {
     "data": {
      "text/plain": [
       "array([[ 1,  2,  3],\n",
       "       [ 3,  2,  5],\n",
       "       [ 5,  7,  1],\n",
       "       [ 4, 10,  3]])"
      ]
     },
     "execution_count": 80,
     "metadata": {},
     "output_type": "execute_result"
    }
   ],
   "source": [
    "arr1"
   ]
  },
  {
   "cell_type": "code",
   "execution_count": 82,
   "id": "d9886998-43a6-422a-921b-8888c2aa594e",
   "metadata": {},
   "outputs": [
    {
     "data": {
      "text/plain": [
       "2"
      ]
     },
     "execution_count": 82,
     "metadata": {},
     "output_type": "execute_result"
    }
   ],
   "source": [
    "arr1.ndim"
   ]
  },
  {
   "cell_type": "code",
   "execution_count": 84,
   "id": "0e1d8bca-bfcd-40ee-a68f-9219131547ba",
   "metadata": {},
   "outputs": [
    {
     "data": {
      "text/plain": [
       "(4, 3)"
      ]
     },
     "execution_count": 84,
     "metadata": {},
     "output_type": "execute_result"
    }
   ],
   "source": [
    "arr1.shape"
   ]
  },
  {
   "cell_type": "code",
   "execution_count": 86,
   "id": "1c38be79-8fa1-44be-94c1-1ad656c083f5",
   "metadata": {},
   "outputs": [
    {
     "data": {
      "text/plain": [
       "12"
      ]
     },
     "execution_count": 86,
     "metadata": {},
     "output_type": "execute_result"
    }
   ],
   "source": [
    "arr1.size"
   ]
  },
  {
   "cell_type": "code",
   "execution_count": 88,
   "id": "fdb36913-ceea-4a8d-a9c2-0b16a7e4079e",
   "metadata": {},
   "outputs": [
    {
     "data": {
      "text/plain": [
       "array([[ 1,  2],\n",
       "       [ 3,  3],\n",
       "       [ 2,  5],\n",
       "       [ 5,  7],\n",
       "       [ 1,  4],\n",
       "       [10,  3]])"
      ]
     },
     "execution_count": 88,
     "metadata": {},
     "output_type": "execute_result"
    }
   ],
   "source": [
    "arr1.reshape(6, 2)"
   ]
  },
  {
   "cell_type": "code",
   "execution_count": 90,
   "id": "ac80334b-0b5f-42cc-b457-306663a2eef3",
   "metadata": {},
   "outputs": [
    {
     "data": {
      "text/plain": [
       "array([[ 1,  2,  3,  3,  2,  5],\n",
       "       [ 5,  7,  1,  4, 10,  3]])"
      ]
     },
     "execution_count": 90,
     "metadata": {},
     "output_type": "execute_result"
    }
   ],
   "source": [
    "arr1.reshape(2,-1)"
   ]
  },
  {
   "cell_type": "code",
   "execution_count": 92,
   "id": "e6cb8f50-8efe-47c0-83cd-cb1a73a0e423",
   "metadata": {},
   "outputs": [
    {
     "data": {
      "text/plain": [
       "array([[ 1,  2,  3],\n",
       "       [ 3,  2,  5],\n",
       "       [ 5,  7,  1],\n",
       "       [ 4, 10,  3]])"
      ]
     },
     "execution_count": 92,
     "metadata": {},
     "output_type": "execute_result"
    }
   ],
   "source": [
    "arr1"
   ]
  },
  {
   "cell_type": "code",
   "execution_count": 94,
   "id": "0a8e4e91-0bbd-4283-b047-7f5ec0dcb74d",
   "metadata": {},
   "outputs": [
    {
     "data": {
      "text/plain": [
       "array([ 1,  2,  3,  3,  2,  5,  5,  7,  1,  4, 10,  3])"
      ]
     },
     "execution_count": 94,
     "metadata": {},
     "output_type": "execute_result"
    }
   ],
   "source": [
    "arr1.flatten()"
   ]
  },
  {
   "cell_type": "code",
   "execution_count": 96,
   "id": "5db3f4e5-e656-473b-951c-e72f417c35f0",
   "metadata": {},
   "outputs": [
    {
     "data": {
      "text/plain": [
       "array([[ 1,  2,  3],\n",
       "       [ 3,  2,  5],\n",
       "       [ 5,  7,  1],\n",
       "       [ 4, 10,  3]])"
      ]
     },
     "execution_count": 96,
     "metadata": {},
     "output_type": "execute_result"
    }
   ],
   "source": [
    "arr1"
   ]
  },
  {
   "cell_type": "code",
   "execution_count": 98,
   "id": "fc77ef00-cad5-471a-a319-be54ecb49eeb",
   "metadata": {},
   "outputs": [
    {
     "data": {
      "text/plain": [
       "array([[3, 2],\n",
       "       [5, 7]])"
      ]
     },
     "execution_count": 98,
     "metadata": {},
     "output_type": "execute_result"
    }
   ],
   "source": [
    "arr1[1:3, 0:2]"
   ]
  },
  {
   "cell_type": "code",
   "execution_count": 100,
   "id": "663ba5a3-2c51-4b5c-9024-3b94b2b011bd",
   "metadata": {},
   "outputs": [
    {
     "data": {
      "text/plain": [
       "array([[ 5,  7,  1],\n",
       "       [ 4, 10,  3]])"
      ]
     },
     "execution_count": 100,
     "metadata": {},
     "output_type": "execute_result"
    }
   ],
   "source": [
    "arr1[2:, :]"
   ]
  },
  {
   "cell_type": "code",
   "execution_count": 102,
   "id": "fbba5baf-4b0d-4b9b-94ac-b93c40b7ec85",
   "metadata": {},
   "outputs": [],
   "source": [
    "# lin alg"
   ]
  },
  {
   "cell_type": "code",
   "execution_count": 104,
   "id": "99d63c56-4cc5-4257-93fe-dcb5f9373801",
   "metadata": {},
   "outputs": [],
   "source": [
    "a1 = np.array([[1, 3], [4, 5]])\n",
    "a2 = np.array([[2, 3], [4, 5]])"
   ]
  },
  {
   "cell_type": "code",
   "execution_count": 110,
   "id": "1cc66893-703f-4eaa-9eaf-aa0b605bf469",
   "metadata": {},
   "outputs": [
    {
     "data": {
      "text/plain": [
       "array([[1, 3],\n",
       "       [4, 5]])"
      ]
     },
     "execution_count": 110,
     "metadata": {},
     "output_type": "execute_result"
    }
   ],
   "source": [
    "a1"
   ]
  },
  {
   "cell_type": "code",
   "execution_count": 112,
   "id": "5196a50f-f52e-4ba7-88ff-95c4d7a24ed4",
   "metadata": {},
   "outputs": [
    {
     "data": {
      "text/plain": [
       "array([[2, 3],\n",
       "       [4, 5]])"
      ]
     },
     "execution_count": 112,
     "metadata": {},
     "output_type": "execute_result"
    }
   ],
   "source": [
    "a2"
   ]
  },
  {
   "cell_type": "code",
   "execution_count": 114,
   "id": "a21a0919-325c-4ad5-a40a-bc8aeede2f05",
   "metadata": {},
   "outputs": [
    {
     "data": {
      "text/plain": [
       "array([[14, 18],\n",
       "       [28, 37]])"
      ]
     },
     "execution_count": 114,
     "metadata": {},
     "output_type": "execute_result"
    }
   ],
   "source": [
    "a1 @ a2"
   ]
  },
  {
   "cell_type": "code",
   "execution_count": 116,
   "id": "e56db1f7-b23c-4de5-8760-864ccc71eb48",
   "metadata": {},
   "outputs": [
    {
     "data": {
      "text/plain": [
       "-6.999999999999999"
      ]
     },
     "execution_count": 116,
     "metadata": {},
     "output_type": "execute_result"
    }
   ],
   "source": [
    "np.linalg.det(a1)"
   ]
  },
  {
   "cell_type": "code",
   "execution_count": 118,
   "id": "0d1b79e8-6e8b-4ece-bc1d-c3a5bb10d823",
   "metadata": {},
   "outputs": [
    {
     "data": {
      "text/plain": [
       "array([[-0.71428571,  0.42857143],\n",
       "       [ 0.57142857, -0.14285714]])"
      ]
     },
     "execution_count": 118,
     "metadata": {},
     "output_type": "execute_result"
    }
   ],
   "source": [
    "np.linalg.inv(a1)"
   ]
  },
  {
   "cell_type": "code",
   "execution_count": 126,
   "id": "d497d5f6-2f5c-48c4-994b-4b8f9cad3abf",
   "metadata": {},
   "outputs": [
    {
     "data": {
      "text/plain": [
       "EigResult(eigenvalues=array([-1.,  7.]), eigenvectors=array([[-0.83205029, -0.4472136 ],\n",
       "       [ 0.5547002 , -0.89442719]]))"
      ]
     },
     "execution_count": 126,
     "metadata": {},
     "output_type": "execute_result"
    }
   ],
   "source": [
    "np.linalg.eig(a1)"
   ]
  },
  {
   "cell_type": "code",
   "execution_count": 130,
   "id": "addad74e-3b49-45bd-94d3-e1899e4455ca",
   "metadata": {},
   "outputs": [],
   "source": [
    "z = np.array([2, 4])  # vector"
   ]
  },
  {
   "cell_type": "code",
   "execution_count": 132,
   "id": "7fa135e5-3e25-47bf-a829-c59bc0a89af5",
   "metadata": {},
   "outputs": [
    {
     "data": {
      "text/plain": [
       "4.47213595499958"
      ]
     },
     "execution_count": 132,
     "metadata": {},
     "output_type": "execute_result"
    }
   ],
   "source": [
    "np.linalg.norm(z)"
   ]
  },
  {
   "cell_type": "code",
   "execution_count": null,
   "id": "37042764-bc21-4e15-97a9-326d2d5e5510",
   "metadata": {},
   "outputs": [],
   "source": []
  }
 ],
 "metadata": {
  "kernelspec": {
   "display_name": "Python 3 (ipykernel)",
   "language": "python",
   "name": "python3"
  },
  "language_info": {
   "codemirror_mode": {
    "name": "ipython",
    "version": 3
   },
   "file_extension": ".py",
   "mimetype": "text/x-python",
   "name": "python",
   "nbconvert_exporter": "python",
   "pygments_lexer": "ipython3",
   "version": "3.11.9"
  }
 },
 "nbformat": 4,
 "nbformat_minor": 5
}
